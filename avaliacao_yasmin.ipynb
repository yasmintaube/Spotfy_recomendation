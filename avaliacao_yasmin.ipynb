{
 "cells": [
  {
   "cell_type": "markdown",
   "metadata": {},
   "source": [
    "## Avaliação 1\n",
    "### Sistema de Recomendação Spotify\n",
    "\n",
    "#### Matérial utilizado como referência:\n",
    "##### Clusterização https://www.kaggle.com/code/vatsalmavani/music-recommendation-system-using-spotify-dataset\n",
    "##### Sistema de recomendação https://www.kaggle.com/code/prathamsharma123/spotify-eda-recommendation-system\n",
    " "
   ]
  },
  {
   "cell_type": "code",
   "execution_count": 93,
   "metadata": {},
   "outputs": [],
   "source": [
    "#bibliotecas utilizadas\n",
    "\n",
    "#tratamento \n",
    "import pandas as pd\n",
    "import numpy as np\n",
    "\n",
    "#clusterização e visualização com PCA\n",
    "from sklearn.cluster import KMeans\n",
    "from sklearn.preprocessing import StandardScaler\n",
    "from sklearn.pipeline import Pipeline\n",
    "import matplotlib.pyplot as plt\n",
    "from sklearn.decomposition import PCA\n",
    "import plotly.express as px \n",
    "\n",
    "#recomendação\n",
    "from sklearn.feature_extraction.text import CountVectorizer\n",
    "from sklearn.metrics.pairwise import cosine_similarity\n"
   ]
  },
  {
   "cell_type": "code",
   "execution_count": 94,
   "metadata": {},
   "outputs": [
    {
     "data": {
      "text/html": [
       "<div>\n",
       "<style scoped>\n",
       "    .dataframe tbody tr th:only-of-type {\n",
       "        vertical-align: middle;\n",
       "    }\n",
       "\n",
       "    .dataframe tbody tr th {\n",
       "        vertical-align: top;\n",
       "    }\n",
       "\n",
       "    .dataframe thead th {\n",
       "        text-align: right;\n",
       "    }\n",
       "</style>\n",
       "<table border=\"1\" class=\"dataframe\">\n",
       "  <thead>\n",
       "    <tr style=\"text-align: right;\">\n",
       "      <th></th>\n",
       "      <th>track_name</th>\n",
       "      <th>artist(s)_name</th>\n",
       "      <th>artist_count</th>\n",
       "      <th>released_year</th>\n",
       "      <th>released_month</th>\n",
       "      <th>released_day</th>\n",
       "      <th>in_spotify_playlists</th>\n",
       "      <th>in_spotify_charts</th>\n",
       "      <th>streams</th>\n",
       "      <th>in_apple_playlists</th>\n",
       "      <th>...</th>\n",
       "      <th>bpm</th>\n",
       "      <th>key</th>\n",
       "      <th>mode</th>\n",
       "      <th>danceability_%</th>\n",
       "      <th>valence_%</th>\n",
       "      <th>energy_%</th>\n",
       "      <th>acousticness_%</th>\n",
       "      <th>instrumentalness_%</th>\n",
       "      <th>liveness_%</th>\n",
       "      <th>speechiness_%</th>\n",
       "    </tr>\n",
       "  </thead>\n",
       "  <tbody>\n",
       "    <tr>\n",
       "      <th>0</th>\n",
       "      <td>Seven (feat. Latto) (Explicit Ver.)</td>\n",
       "      <td>Latto, Jung Kook</td>\n",
       "      <td>2</td>\n",
       "      <td>2023</td>\n",
       "      <td>7</td>\n",
       "      <td>14</td>\n",
       "      <td>553</td>\n",
       "      <td>147</td>\n",
       "      <td>141381703</td>\n",
       "      <td>43</td>\n",
       "      <td>...</td>\n",
       "      <td>125</td>\n",
       "      <td>B</td>\n",
       "      <td>Major</td>\n",
       "      <td>80</td>\n",
       "      <td>89</td>\n",
       "      <td>83</td>\n",
       "      <td>31</td>\n",
       "      <td>0</td>\n",
       "      <td>8</td>\n",
       "      <td>4</td>\n",
       "    </tr>\n",
       "    <tr>\n",
       "      <th>1</th>\n",
       "      <td>LALA</td>\n",
       "      <td>Myke Towers</td>\n",
       "      <td>1</td>\n",
       "      <td>2023</td>\n",
       "      <td>3</td>\n",
       "      <td>23</td>\n",
       "      <td>1474</td>\n",
       "      <td>48</td>\n",
       "      <td>133716286</td>\n",
       "      <td>48</td>\n",
       "      <td>...</td>\n",
       "      <td>92</td>\n",
       "      <td>C#</td>\n",
       "      <td>Major</td>\n",
       "      <td>71</td>\n",
       "      <td>61</td>\n",
       "      <td>74</td>\n",
       "      <td>7</td>\n",
       "      <td>0</td>\n",
       "      <td>10</td>\n",
       "      <td>4</td>\n",
       "    </tr>\n",
       "    <tr>\n",
       "      <th>2</th>\n",
       "      <td>vampire</td>\n",
       "      <td>Olivia Rodrigo</td>\n",
       "      <td>1</td>\n",
       "      <td>2023</td>\n",
       "      <td>6</td>\n",
       "      <td>30</td>\n",
       "      <td>1397</td>\n",
       "      <td>113</td>\n",
       "      <td>140003974</td>\n",
       "      <td>94</td>\n",
       "      <td>...</td>\n",
       "      <td>138</td>\n",
       "      <td>F</td>\n",
       "      <td>Major</td>\n",
       "      <td>51</td>\n",
       "      <td>32</td>\n",
       "      <td>53</td>\n",
       "      <td>17</td>\n",
       "      <td>0</td>\n",
       "      <td>31</td>\n",
       "      <td>6</td>\n",
       "    </tr>\n",
       "    <tr>\n",
       "      <th>3</th>\n",
       "      <td>Cruel Summer</td>\n",
       "      <td>Taylor Swift</td>\n",
       "      <td>1</td>\n",
       "      <td>2019</td>\n",
       "      <td>8</td>\n",
       "      <td>23</td>\n",
       "      <td>7858</td>\n",
       "      <td>100</td>\n",
       "      <td>800840817</td>\n",
       "      <td>116</td>\n",
       "      <td>...</td>\n",
       "      <td>170</td>\n",
       "      <td>A</td>\n",
       "      <td>Major</td>\n",
       "      <td>55</td>\n",
       "      <td>58</td>\n",
       "      <td>72</td>\n",
       "      <td>11</td>\n",
       "      <td>0</td>\n",
       "      <td>11</td>\n",
       "      <td>15</td>\n",
       "    </tr>\n",
       "    <tr>\n",
       "      <th>4</th>\n",
       "      <td>WHERE SHE GOES</td>\n",
       "      <td>Bad Bunny</td>\n",
       "      <td>1</td>\n",
       "      <td>2023</td>\n",
       "      <td>5</td>\n",
       "      <td>18</td>\n",
       "      <td>3133</td>\n",
       "      <td>50</td>\n",
       "      <td>303236322</td>\n",
       "      <td>84</td>\n",
       "      <td>...</td>\n",
       "      <td>144</td>\n",
       "      <td>A</td>\n",
       "      <td>Minor</td>\n",
       "      <td>65</td>\n",
       "      <td>23</td>\n",
       "      <td>80</td>\n",
       "      <td>14</td>\n",
       "      <td>63</td>\n",
       "      <td>11</td>\n",
       "      <td>6</td>\n",
       "    </tr>\n",
       "  </tbody>\n",
       "</table>\n",
       "<p>5 rows × 24 columns</p>\n",
       "</div>"
      ],
      "text/plain": [
       "                            track_name    artist(s)_name  artist_count  \\\n",
       "0  Seven (feat. Latto) (Explicit Ver.)  Latto, Jung Kook             2   \n",
       "1                                 LALA       Myke Towers             1   \n",
       "2                              vampire    Olivia Rodrigo             1   \n",
       "3                         Cruel Summer      Taylor Swift             1   \n",
       "4                       WHERE SHE GOES         Bad Bunny             1   \n",
       "\n",
       "   released_year  released_month  released_day  in_spotify_playlists  \\\n",
       "0           2023               7            14                   553   \n",
       "1           2023               3            23                  1474   \n",
       "2           2023               6            30                  1397   \n",
       "3           2019               8            23                  7858   \n",
       "4           2023               5            18                  3133   \n",
       "\n",
       "   in_spotify_charts    streams  in_apple_playlists  ...  bpm key   mode  \\\n",
       "0                147  141381703                  43  ...  125   B  Major   \n",
       "1                 48  133716286                  48  ...   92  C#  Major   \n",
       "2                113  140003974                  94  ...  138   F  Major   \n",
       "3                100  800840817                 116  ...  170   A  Major   \n",
       "4                 50  303236322                  84  ...  144   A  Minor   \n",
       "\n",
       "  danceability_%  valence_% energy_% acousticness_%  instrumentalness_%  \\\n",
       "0             80         89       83             31                   0   \n",
       "1             71         61       74              7                   0   \n",
       "2             51         32       53             17                   0   \n",
       "3             55         58       72             11                   0   \n",
       "4             65         23       80             14                  63   \n",
       "\n",
       "   liveness_%  speechiness_%  \n",
       "0           8              4  \n",
       "1          10              4  \n",
       "2          31              6  \n",
       "3          11             15  \n",
       "4          11              6  \n",
       "\n",
       "[5 rows x 24 columns]"
      ]
     },
     "execution_count": 94,
     "metadata": {},
     "output_type": "execute_result"
    }
   ],
   "source": [
    "#Lendo o arquivo spotfy.csv\n",
    "df = pd.read_csv(\"C:/Users/Yasmin/Downloads/archive 2/spotify-2023.csv\", encoding= 'ISO-8859-1')\n",
    "df.head()"
   ]
  },
  {
   "cell_type": "code",
   "execution_count": 95,
   "metadata": {},
   "outputs": [
    {
     "name": "stdout",
     "output_type": "stream",
     "text": [
      "<class 'pandas.core.frame.DataFrame'>\n",
      "RangeIndex: 953 entries, 0 to 952\n",
      "Data columns (total 24 columns):\n",
      " #   Column                Non-Null Count  Dtype \n",
      "---  ------                --------------  ----- \n",
      " 0   track_name            953 non-null    object\n",
      " 1   artist(s)_name        953 non-null    object\n",
      " 2   artist_count          953 non-null    int64 \n",
      " 3   released_year         953 non-null    int64 \n",
      " 4   released_month        953 non-null    int64 \n",
      " 5   released_day          953 non-null    int64 \n",
      " 6   in_spotify_playlists  953 non-null    int64 \n",
      " 7   in_spotify_charts     953 non-null    int64 \n",
      " 8   streams               953 non-null    object\n",
      " 9   in_apple_playlists    953 non-null    int64 \n",
      " 10  in_apple_charts       953 non-null    int64 \n",
      " 11  in_deezer_playlists   953 non-null    object\n",
      " 12  in_deezer_charts      953 non-null    int64 \n",
      " 13  in_shazam_charts      903 non-null    object\n",
      " 14  bpm                   953 non-null    int64 \n",
      " 15  key                   858 non-null    object\n",
      " 16  mode                  953 non-null    object\n",
      " 17  danceability_%        953 non-null    int64 \n",
      " 18  valence_%             953 non-null    int64 \n",
      " 19  energy_%              953 non-null    int64 \n",
      " 20  acousticness_%        953 non-null    int64 \n",
      " 21  instrumentalness_%    953 non-null    int64 \n",
      " 22  liveness_%            953 non-null    int64 \n",
      " 23  speechiness_%         953 non-null    int64 \n",
      "dtypes: int64(17), object(7)\n",
      "memory usage: 178.8+ KB\n"
     ]
    }
   ],
   "source": [
    "df.info()"
   ]
  },
  {
   "cell_type": "markdown",
   "metadata": {},
   "source": [
    "## Tratando colunas textuais"
   ]
  },
  {
   "cell_type": "code",
   "execution_count": 96,
   "metadata": {},
   "outputs": [
    {
     "data": {
      "text/html": [
       "<div>\n",
       "<style scoped>\n",
       "    .dataframe tbody tr th:only-of-type {\n",
       "        vertical-align: middle;\n",
       "    }\n",
       "\n",
       "    .dataframe tbody tr th {\n",
       "        vertical-align: top;\n",
       "    }\n",
       "\n",
       "    .dataframe thead th {\n",
       "        text-align: right;\n",
       "    }\n",
       "</style>\n",
       "<table border=\"1\" class=\"dataframe\">\n",
       "  <thead>\n",
       "    <tr style=\"text-align: right;\">\n",
       "      <th></th>\n",
       "      <th>track_name</th>\n",
       "      <th>artist(s)_name</th>\n",
       "      <th>artist_count</th>\n",
       "      <th>released_year</th>\n",
       "      <th>released_month</th>\n",
       "      <th>released_day</th>\n",
       "      <th>in_spotify_playlists</th>\n",
       "      <th>in_spotify_charts</th>\n",
       "      <th>streams</th>\n",
       "      <th>in_apple_playlists</th>\n",
       "      <th>...</th>\n",
       "      <th>bpm</th>\n",
       "      <th>key</th>\n",
       "      <th>mode</th>\n",
       "      <th>danceability_%</th>\n",
       "      <th>valence_%</th>\n",
       "      <th>energy_%</th>\n",
       "      <th>acousticness_%</th>\n",
       "      <th>instrumentalness_%</th>\n",
       "      <th>liveness_%</th>\n",
       "      <th>speechiness_%</th>\n",
       "    </tr>\n",
       "  </thead>\n",
       "  <tbody>\n",
       "    <tr>\n",
       "      <th>574</th>\n",
       "      <td>Love Grows (Where My Rosemary Goes)</td>\n",
       "      <td>Edison Lighthouse</td>\n",
       "      <td>1</td>\n",
       "      <td>1970</td>\n",
       "      <td>1</td>\n",
       "      <td>1</td>\n",
       "      <td>2877</td>\n",
       "      <td>0</td>\n",
       "      <td>BPM110KeyAModeMajorDanceability53Valence75Ener...</td>\n",
       "      <td>16</td>\n",
       "      <td>...</td>\n",
       "      <td>110</td>\n",
       "      <td>A</td>\n",
       "      <td>Major</td>\n",
       "      <td>53</td>\n",
       "      <td>75</td>\n",
       "      <td>69</td>\n",
       "      <td>7</td>\n",
       "      <td>0</td>\n",
       "      <td>17</td>\n",
       "      <td>3</td>\n",
       "    </tr>\n",
       "  </tbody>\n",
       "</table>\n",
       "<p>1 rows × 24 columns</p>\n",
       "</div>"
      ],
      "text/plain": [
       "                              track_name     artist(s)_name  artist_count  \\\n",
       "574  Love Grows (Where My Rosemary Goes)  Edison Lighthouse             1   \n",
       "\n",
       "     released_year  released_month  released_day  in_spotify_playlists  \\\n",
       "574           1970               1             1                  2877   \n",
       "\n",
       "     in_spotify_charts                                            streams  \\\n",
       "574                  0  BPM110KeyAModeMajorDanceability53Valence75Ener...   \n",
       "\n",
       "     in_apple_playlists  ...  bpm key   mode danceability_%  valence_%  \\\n",
       "574                  16  ...  110   A  Major             53         75   \n",
       "\n",
       "    energy_% acousticness_%  instrumentalness_%  liveness_%  speechiness_%  \n",
       "574       69              7                   0          17              3  \n",
       "\n",
       "[1 rows x 24 columns]"
      ]
     },
     "execution_count": 96,
     "metadata": {},
     "output_type": "execute_result"
    }
   ],
   "source": [
    "#identificando o registro tipo object da coluna streams\n",
    "\n",
    "df[df['streams'] == 'BPM110KeyAModeMajorDanceability53Valence75Energy69Acousticness7Instrumentalness0Liveness17Speechiness3']"
   ]
  },
  {
   "cell_type": "code",
   "execution_count": 97,
   "metadata": {},
   "outputs": [],
   "source": [
    "#deletando registro\n",
    "\n",
    "df.drop(index= 574, axis = 1, inplace = True)"
   ]
  },
  {
   "cell_type": "code",
   "execution_count": 98,
   "metadata": {},
   "outputs": [],
   "source": [
    "#após deletar registro é possivel converter a coluna para tipo inteiro\n",
    "\n",
    "df['streams'] = df['streams'].astype(np.int64)"
   ]
  },
  {
   "cell_type": "code",
   "execution_count": 99,
   "metadata": {},
   "outputs": [],
   "source": [
    "#deletando outras colunas tipo object menos importantes\n",
    "df.drop(columns = ['in_shazam_charts', 'in_deezer_playlists' ], axis = 1, inplace = True)"
   ]
  },
  {
   "cell_type": "markdown",
   "metadata": {},
   "source": [
    "## Clusterização (K-Means)"
   ]
  },
  {
   "cell_type": "code",
   "execution_count": 100,
   "metadata": {},
   "outputs": [
    {
     "data": {
      "image/png": "[encoded data removed]",
      "text/plain": [
       "<Figure size 640x480 with 1 Axes>"
      ]
     },
     "metadata": {},
     "output_type": "display_data"
    }
   ],
   "source": [
    "#método cotovelo para definir quantidade de clusters\n",
    "\n",
    "X = df.select_dtypes(np.number)\n",
    "\n",
    "# Defina o intervalo de valores k\n",
    "k_range = range(1, 10)\n",
    "\n",
    "# Execute o algoritmo de clustering para cada valor k e armazene a soma dos erros quadráticos em uma lista\n",
    "sse = []\n",
    "for k in k_range:\n",
    "    km = KMeans(n_clusters=k)\n",
    "    km.fit(X)\n",
    "    sse.append(km.inertia_)\n",
    "\n",
    "# Trace a curva de cotovelo\n",
    "plt.plot(k_range, sse)\n",
    "plt.xlabel('Número de Clusters (k)')\n",
    "plt.ylabel('soma dos erros quadráticos ')\n",
    "plt.title('Método do Cotovelo')\n",
    "plt.show()"
   ]
  },
  {
   "cell_type": "code",
   "execution_count": 101,
   "metadata": {},
   "outputs": [],
   "source": [
    "#fazendo a clusterização utilizando pipeline\n",
    "\n",
    "song_cluster_pipeline = Pipeline([('scaler', StandardScaler()), \n",
    "                                  ('kmeans', KMeans(n_clusters=2, \n",
    "                                   verbose=False))\n",
    "                                 ], verbose=False)\n",
    "\n",
    "X = df.select_dtypes(np.number)\n",
    "number_cols = list(X.columns)\n",
    "song_cluster_pipeline.fit(X)\n",
    "song_cluster_labels = song_cluster_pipeline.predict(X)\n",
    "df['cluster_label'] = song_cluster_labels"
   ]
  },
  {
   "cell_type": "code",
   "execution_count": 102,
   "metadata": {},
   "outputs": [
    {
     "data": {
      "application/vnd.plotly.v1+json": {
       "config": {
        "plotlyServerURL": "https://plot.ly"
       },
       "data": [
        {
         "customdata": [
          [
           "Seven (feat. Latto) (Explicit Ver.)"
          ],
          [
           "LALA"
          ],
          [
           "vampire"
          ],
          [
           "Cruel Summer"
          ],
          [
           "WHERE SHE GOES"
          ],
          [
           "Sprinter"
          ],
          [
           "Ella Baila Sola"
          ],
          [
           "Columbia"
          ],
          [
           "fukumean"
          ],
          [
           "La Bebe - Remix"
          ],
          [
           "un x100to"
          ],
          [
           "Super Shy"
          ],
          [
           "Flowers"
          ],
          [
           "Daylight"
          ],
          [
           "As It Was"
          ],
          [
           "Kill Bill"
          ],
          [
           "Cupid - Twin Ver."
          ],
          [
           "What Was I Made For? [From The Motion Picture \"Barbie\"]"
          ],
          [
           "Classy 101"
          ],
          [
           "Like Crazy"
          ],
          [
           "LADY GAGA"
          ],
          [
           "I Can See You (Taylorï¿½ï¿½ï¿½s Version) (From The "
          ],
          [
           "I Wanna Be Yours"
          ],
          [
           "Peso Pluma: Bzrp Music Sessions, Vol. 55"
          ],
          [
           "Popular (with Playboi Carti & Madonna) - The Idol Vol. 1 (Music from the HBO Original Series)"
          ],
          [
           "SABOR FRESA"
          ],
          [
           "Calm Down (with Selena Gomez)"
          ],
          [
           "MOJABI GHOST"
          ],
          [
           "Last Night"
          ],
          [
           "Dance The Night (From Barbie The Album)"
          ],
          [
           "Rush"
          ],
          [
           "TULUM"
          ],
          [
           "Creepin'"
          ],
          [
           "Anti-Hero"
          ],
          [
           "TQG"
          ],
          [
           "Los del Espacio"
          ],
          [
           "Frï¿½ï¿½gil (feat. Grupo Front"
          ],
          [
           "Blank Space"
          ],
          [
           "Style"
          ],
          [
           "TQM"
          ],
          [
           "El Azul"
          ],
          [
           "Sunflower - Spider-Man: Into the Spider-Verse"
          ],
          [
           "I'm Good (Blue)"
          ],
          [
           "See You Again"
          ],
          [
           "Barbie World (with Aqua) [From Barbie The Album]"
          ],
          [
           "Angels Like You"
          ],
          [
           "I Ain't Worried"
          ],
          [
           "Die For You"
          ],
          [
           "Starboy"
          ],
          [
           "Die For You - Remix"
          ],
          [
           "El Cielo"
          ],
          [
           "Baby Don't Hurt Me"
          ],
          [
           "AMARGURA"
          ],
          [
           "(It Goes Like) Nanana - Edit"
          ],
          [
           "Another Love"
          ],
          [
           "Blinding Lights"
          ],
          [
           "Moonlight"
          ],
          [
           "La Bachata"
          ],
          [
           "S91"
          ],
          [
           "cardigan"
          ],
          [
           "Tï¿½ï¿"
          ],
          [
           "Boy's a liar Pt. 2"
          ],
          [
           "Left and Right (Feat. Jung Kook of BTS)"
          ],
          [
           "BESO"
          ],
          [
           "Hey Mor"
          ],
          [
           "Yellow"
          ],
          [
           "Karma"
          ],
          [
           "People"
          ],
          [
           "Overdrive"
          ],
          [
           "Enchanted (Taylor's Version)"
          ],
          [
           "BABY HELLO"
          ],
          [
           "Heat Waves"
          ],
          [
           "golden hour"
          ],
          [
           "Sweater Weather"
          ],
          [
           "Quevedo: Bzrp Music Sessions, Vol. 52"
          ],
          [
           "Viva La Vida"
          ],
          [
           "Here With Me"
          ],
          [
           "Unholy (feat. Kim Petras)"
          ],
          [
           "Yandel 150"
          ],
          [
           "CORAZï¿½ï¿½N VA"
          ],
          [
           "Riptide"
          ],
          [
           "Until I Found You (with Em Beihold) - Em Beihold Version"
          ],
          [
           "Novidade na ï¿½ï¿"
          ],
          [
           "Back To December (Taylor's Version)"
          ],
          [
           "STAY (with Justin Bieber)"
          ],
          [
           "El Merengue"
          ],
          [
           "Someone You Loved"
          ],
          [
           "Me Porto Bonito"
          ],
          [
           "Makeba"
          ],
          [
           "MONTAGEM - FR PUNK"
          ],
          [
           "Fast Car"
          ],
          [
           "What It Is (Solo Version)"
          ],
          [
           "Coco Chanel"
          ],
          [
           "Donï¿½ï¿½ï¿½t Bl"
          ],
          [
           "Still With You"
          ],
          [
           "All My Life (feat. J. Cole)"
          ],
          [
           "Say Yes To Heaven"
          ],
          [
           "Snooze"
          ],
          [
           "Summertime Sadness"
          ],
          [
           "Take Two"
          ],
          [
           "Lover"
          ],
          [
           "Too Many Nights (feat. Don Toliver & with Future)"
          ],
          [
           "Chemical"
          ],
          [
           "Mockingbird"
          ],
          [
           "New Jeans"
          ],
          [
           "Primera Cita"
          ],
          [
           "Cold Heart - PNAU Remix"
          ],
          [
           "Dandelions"
          ],
          [
           "Bones"
          ],
          [
           "Set Fire to the Rain"
          ],
          [
           "Money Trees"
          ],
          [
           "Tak Segampang Itu"
          ],
          [
           "LAGUNAS"
          ],
          [
           "Mine (Taylor's Version)"
          ],
          [
           "Everybody Wants To Rule The World"
          ],
          [
           "No Role Modelz"
          ],
          [
           "Tattoo"
          ],
          [
           "Rara Vez"
          ],
          [
           "VAGABUNDO"
          ],
          [
           "august"
          ],
          [
           "LUNA"
          ],
          [
           "Miracle (with Ellie Goulding)"
          ],
          [
           "Nonsense"
          ],
          [
           "Que Vuelvas"
          ],
          [
           "Por las Noches"
          ],
          [
           "Feliz Cumpleaï¿½ï¿½os Fe"
          ],
          [
           "Can't Hold Us (feat. Ray Dalton)"
          ],
          [
           "Watermelon Sugar"
          ],
          [
           "lovely - Bonus Track"
          ],
          [
           "Rauw Alejandro: Bzrp Music Sessions, Vol. 56"
          ],
          [
           "Queencard"
          ],
          [
           "OMG"
          ],
          [
           "Radio"
          ],
          [
           "Shakira: Bzrp Music Sessions, Vol. 53"
          ],
          [
           "505"
          ],
          [
           "Calling (Spider-Man: Across the Spider-Verse) (Metro Boomin & Swae Lee, NAV, feat. A Boogie Wit da Hoodie)"
          ],
          [
           "Trance (with Travis Scott & Young Thug)"
          ],
          [
           "Tere Vaaste (From \"Zara Hatke Zara Bachke\")"
          ],
          [
           "Perfect"
          ],
          [
           "Romantic Homicide"
          ],
          [
           "Believer"
          ],
          [
           "Novo Balanï¿½"
          ],
          [
           "Gol Bolinha, Gol Quadrado 2"
          ],
          [
           "Without Me"
          ],
          [
           "QUEMA"
          ],
          [
           "Stargirl Interlude"
          ],
          [
           "Ojitos Lindos"
          ],
          [
           "Somewhere Only We Know"
          ],
          [
           "Those Eyes"
          ],
          [
           "El Gordo Trae El Mando"
          ],
          [
           "Mi Bello Angel"
          ],
          [
           "Bye"
          ],
          [
           "Danza Kuduro"
          ],
          [
           "Nosso Quadro"
          ],
          [
           "Locked Out Of Heaven"
          ],
          [
           "Un Finde | CROSSOVER #2"
          ],
          [
           "Jimmy Cooks (feat. 21 Savage)"
          ],
          [
           "Counting Stars"
          ],
          [
           "Ghost"
          ],
          [
           "Under The Influence"
          ],
          [
           "PRC"
          ],
          [
           "Gasolina"
          ],
          [
           "One Dance"
          ],
          [
           "Enchanted"
          ],
          [
           "Save Your Tears"
          ],
          [
           "Sure Thing"
          ],
          [
           "Every Breath You Take - Remastered 2003"
          ],
          [
           "The Night We Met"
          ],
          [
           "We Found Love"
          ],
          [
           "When I Was Your Man"
          ],
          [
           "Let Me Down Slowly"
          ],
          [
           "Am I Dreaming (Metro Boomin & A$AP Rocky, Roisee)"
          ],
          [
           "Do I Wanna Know?"
          ],
          [
           "Demons"
          ],
          [
           "ýýýýýýýýýýýý"
          ],
          [
           "Reminder"
          ],
          [
           "Shake It Off"
          ],
          [
           "Why'd You Only Call Me When You're High?"
          ],
          [
           "SNAP"
          ],
          [
           "Shape of You"
          ],
          [
           "Night Changes"
          ],
          [
           "Fin de Semana"
          ],
          [
           "Creep"
          ],
          [
           "Car's Outside"
          ],
          [
           "Apocalypse"
          ],
          [
           "Cheques"
          ],
          [
           "Pink + White"
          ],
          [
           "Circles"
          ],
          [
           "Just The Way You Are"
          ],
          [
           "Take Me To Church"
          ],
          [
           "Bebe Dame"
          ],
          [
           "You Belong With Me (Taylorï¿½ï¿½ï¿½s Ve"
          ],
          [
           "Titi Me Preguntï¿"
          ],
          [
           "Better Than Revenge (Taylor's Version)"
          ],
          [
           "Shut up My Moms Calling"
          ],
          [
           "Have You Ever Seen The Rain?"
          ],
          [
           "Es un Secreto"
          ],
          [
           "POLARIS - Remix"
          ],
          [
           "Ditto"
          ],
          [
           "Take On Me"
          ],
          [
           "Annihilate (Spider-Man: Across the Spider-Verse) (Metro Boomin & Swae Lee, Lil Wayne, Offset)"
          ],
          [
           "Angel Pt 1 (feat. Jimin of BTS, JVKE & Muni Long)"
          ],
          [
           "Acrï¿½ï¿½s"
          ],
          [
           "AMG"
          ],
          [
           "Phir Aur Kya Chahiye (From \"Zara Hatke Zara Bachke\")"
          ],
          [
           "S-Class"
          ],
          [
           "Hits Different"
          ],
          [
           "Chanel"
          ],
          [
           "Self Love (Spider-Man: Across the Spider-Verse) (Metro Boomin & Coi Leray)"
          ],
          [
           "Area Codes"
          ],
          [
           "Abcdario"
          ],
          [
           "Obsessed"
          ],
          [
           "Piï¿½ï¿½man Deï¿"
          ],
          [
           "FLOWER"
          ],
          [
           "All The Way Live (Spider-Man: Across the Spider-Verse) (Metro Boomin & Future, Lil Uzi Vert)"
          ],
          [
           "Eyes Closed"
          ],
          [
           "Escapism."
          ],
          [
           "La Jumpa"
          ],
          [
           "Karma (feat. Ice Spice)"
          ],
          [
           "Superhero (Heroes & Villains) [with Future & Chris Brown]"
          ],
          [
           "Las Morras"
          ],
          [
           "CHORRITO PA LAS ANIMAS"
          ],
          [
           "Ch y la Pizza"
          ],
          [
           "Snow On The Beach (feat. More Lana Del Rey)"
          ],
          [
           "Players"
          ],
          [
           "Bite Me"
          ],
          [
           "Stand By Me (feat. Morgan Wallen)"
          ],
          [
           "Normal"
          ],
          [
           "Hummingbird (Metro Boomin & James Blake)"
          ],
          [
           "Seu Brilho Sumiu - Ao Vivo"
          ],
          [
           "Bad Habit"
          ],
          [
           "CUFF IT"
          ],
          [
           "Lilith (feat. SUGA of BTS) (Diablo IV Anthem)"
          ],
          [
           "69"
          ],
          [
           "Niï¿½ï¿½a Bo"
          ],
          [
           "Search & Rescue"
          ],
          [
           "AMERICA HAS A PROBLEM (feat. Kendrick Lamar)"
          ],
          [
           "Lavender Haze"
          ],
          [
           "Link Up (Metro Boomin & Don Toliver, Wizkid feat. BEAM & Toian) - Spider-Verse Remix (Spider-Man: Across the Spider-Verse )"
          ],
          [
           "Efecto"
          ],
          [
           "Erro Gostoso - Ao Vivo"
          ],
          [
           "Cupido"
          ],
          [
           "Just Wanna Rock"
          ],
          [
           "Unstoppable"
          ],
          [
           "Until I Found You"
          ],
          [
           "Rich Flex"
          ],
          [
           "Easy On Me"
          ],
          [
           "Cartï¿½ï¿½o B"
          ],
          [
           "Danger (Spider) (Offset & JID)"
          ],
          [
           "Oi Balde - Ao Vivo"
          ],
          [
           "The Real Slim Shady"
          ],
          [
           "MERCHO"
          ],
          [
           "The Color Violet"
          ],
          [
           "Glimpse of Us"
          ],
          [
           "Mejor Que Yo"
          ],
          [
           "Curtains"
          ],
          [
           "UNFORGIVEN (feat. Nile Rodgers)"
          ],
          [
           "Haegeum"
          ],
          [
           "Conexï¿½ï¿½es de Mï¿½ï¿½fia (feat. Rich "
          ],
          [
           "MIENTRAS ME CURO DEL CORA"
          ],
          [
           "Never Felt So Alone"
          ],
          [
           "X SI VOLVEMOS"
          ],
          [
           "ceilings"
          ],
          [
           "Cupid"
          ],
          [
           "I AM"
          ],
          [
           "Cupid ï¿½ï¿½ï¿½ Twin Ver. (FIFTY FIFTY) ï¿½ï¿½ï¿½ Spe"
          ],
          [
           "Shorty Party"
          ],
          [
           "Super"
          ],
          [
           "Slut Me Out"
          ],
          [
           "Double Fantasy (with Future)"
          ],
          [
           "All Of The Girls You Loved Before"
          ],
          [
           "PROVENZA"
          ],
          [
           "Princess Diana (with Nicki Minaj)"
          ],
          [
           "Di Que Si"
          ],
          [
           "Shivers"
          ],
          [
           "Igualito a Mi Apï¿"
          ],
          [
           "Shoong! (feat. LISA of BLACKPINK)"
          ],
          [
           "Komang"
          ],
          [
           "DESPECHï¿"
          ],
          [
           "Made You Look"
          ],
          [
           "Watch This - ARIZONATEARS Pluggnb Remix"
          ],
          [
           "No Se Va"
          ],
          [
           "Punto G"
          ],
          [
           "Lovers Rock"
          ],
          [
           "METAMORPHOSIS"
          ],
          [
           "Mami Chula"
          ],
          [
           "En Paris"
          ],
          [
           "Set Me Free Pt.2"
          ],
          [
           "I Was Never There"
          ],
          [
           "Don't ever say love me (feat. RM of BTS)"
          ],
          [
           "Shut Down"
          ],
          [
           "Gato de Noche"
          ],
          [
           "Call Out My Name"
          ],
          [
           "Like Crazy (English Version)"
          ],
          [
           "Rosa Pastel"
          ],
          [
           "Sunroof"
          ],
          [
           "Lose Yourself - Soundtrack Version"
          ],
          [
           "Superman"
          ],
          [
           "Mas Rica Que Ayer"
          ],
          [
           "People Pt.2 (feat. IU)"
          ],
          [
           "REMIX EXCLUSIVO"
          ],
          [
           "Arcï¿½ï¿½ngel: Bzrp Music Sessions, Vol"
          ],
          [
           "DOGTOOTH"
          ],
          [
           "10:35"
          ],
          [
           "SORRY NOT SORRY"
          ],
          [
           "HAPPY"
          ],
          [
           "La Bebe"
          ],
          [
           "I Know - PR1SVX Edit"
          ],
          [
           "Late Night Talking"
          ],
          [
           "Leï¿½"
          ],
          [
           "Save Your Tears (with Ariana Grande) (Remix)"
          ],
          [
           "Something in the Orange"
          ],
          [
           "VOID"
          ],
          [
           "Dijeron Que No La Iba Lograr"
          ],
          [
           "Midnight Rain"
          ],
          [
           "If We Ever Broke Up"
          ],
          [
           "You Proof"
          ],
          [
           "LA INOCENTE"
          ],
          [
           "Malas Decisiones"
          ],
          [
           "Murder In My Mind"
          ],
          [
           "Gangsta's Paradise"
          ],
          [
           "CAIRO"
          ],
          [
           "I Love You So"
          ],
          [
           "Dark Red"
          ],
          [
           "Say You Won't Let Go"
          ],
          [
           "The Hills"
          ],
          [
           "Heart To Heart"
          ],
          [
           "Peaches (from The Super Mario Bros. Movie)"
          ],
          [
           "Marisola - Remix"
          ],
          [
           "LOKERA"
          ],
          [
           "Low"
          ],
          [
           "Numb"
          ],
          [
           "Tormenta (feat. Bad Bunny)"
          ],
          [
           "on the street (with J. Cole)"
          ],
          [
           "One Thing At A Time"
          ],
          [
           "Miss You"
          ],
          [
           "Ainï¿½ï¿½ï¿½t Tha"
          ],
          [
           "Thinkinï¿½ï¿½ï¿½ B"
          ],
          [
           "Private Landing (feat. Justin Bieber & Future)"
          ],
          [
           "Everything I Love"
          ],
          [
           "Heaven"
          ],
          [
           "LET GO"
          ],
          [
           "Sial"
          ],
          [
           "I Wrote The Book"
          ],
          [
           "Apna Bana Le (From \"Bhediya\")"
          ],
          [
           "SPIT IN MY FACE!"
          ],
          [
           "PLAYA DEL INGLï¿½"
          ],
          [
           "Man Made A Bar (feat. Eric Church)"
          ],
          [
           "Red Ruby Da Sleeze"
          ],
          [
           "Kahani Suno 2.0"
          ],
          [
           "Nobody Gets Me"
          ],
          [
           "PERO Tï¿"
          ],
          [
           "Hype Boy"
          ],
          [
           "Bloody Mary"
          ],
          [
           "Monotonï¿½"
          ],
          [
           "ýýý98 Braves"
          ],
          [
           "WANDA"
          ],
          [
           "Thought You Should Know"
          ],
          [
           "In The End"
          ],
          [
           "Zona De Perigo"
          ],
          [
           "Lovezinho"
          ],
          [
           "I Like You (A Happier Song) (with Doja Cat)"
          ],
          [
           "Neverita"
          ],
          [
           "Vista Al Mar"
          ],
          [
           "Sem Alianï¿½ï¿½a no "
          ],
          [
           "Enemy (with JID) - from the series Arcane League of Legends"
          ],
          [
           "Revenge"
          ],
          [
           "Bombonzinho - Ao Vivo"
          ],
          [
           "LA CANCIï¿½"
          ],
          [
           "Quï¿½ï¿½ Ago"
          ],
          [
           "Love Again"
          ],
          [
           "After Hours"
          ],
          [
           "About Damn Time"
          ],
          [
           "Born With A Beer In My Hand"
          ],
          [
           "ýýýýýýýýýýýýýýýýýýýýý"
          ],
          [
           "Besos Moja2"
          ],
          [
           "Maan Meri Jaan"
          ],
          [
           "Moscow Mule"
          ],
          [
           "My Universe"
          ],
          [
           "Devil Donï¿½ï¿½ï¿½"
          ],
          [
           "LLYLM"
          ],
          [
           "I'm Not Here To Make Friends"
          ],
          [
           "TRUSTFALL"
          ],
          [
           "ANTIFRAGILE"
          ],
          [
           "Boy's a liar"
          ],
          [
           "VIBE (feat. Jimin of BTS)"
          ],
          [
           "Shirt"
          ],
          [
           "Lift Me Up - From Black Panther: Wakanda Forever - Music From and Inspired By"
          ],
          [
           "STAR WALKIN' (League of Legends Worlds Anthem)"
          ],
          [
           "Sex, Drugs, Etc."
          ],
          [
           "Boy With Luv (feat. Halsey)"
          ],
          [
           "Hey, Mickey!"
          ],
          [
           "Calm Down"
          ],
          [
           "Jhoome Jo Pathaan"
          ],
          [
           "Escapism. - Sped Up"
          ],
          [
           "Space Song"
          ],
          [
           "Dreamers [Music from the FIFA World Cup Qatar 2022 Official Soundtrack]"
          ],
          [
           "Te Felicito"
          ],
          [
           "Muï¿½ï¿½"
          ],
          [
           "TV"
          ],
          [
           "I'm Not The Only One"
          ],
          [
           "Heather"
          ],
          [
           "Besharam Rang (From \"Pathaan\")"
          ],
          [
           "One Kiss (with Dua Lipa)"
          ],
          [
           "Sugar Rush Ride"
          ],
          [
           "Pink Venom"
          ],
          [
           "WAIT FOR U (feat. Drake & Tems)"
          ],
          [
           "Don't Start Now"
          ],
          [
           "After Dark"
          ],
          [
           "Eu Gosto Assim - Ao Vivo"
          ],
          [
           "INDUSTRY BABY (feat. Jack Harlow)"
          ],
          [
           "MIDDLE OF THE NIGHT"
          ],
          [
           "Atlantis"
          ],
          [
           "PUNTO 40"
          ],
          [
           "Evoque Prata"
          ],
          [
           "How Do I Say Goodbye"
          ],
          [
           "Blind"
          ],
          [
           "Die For You"
          ],
          [
           "Doja"
          ],
          [
           "Gatita"
          ],
          [
           "Rumble"
          ],
          [
           "Niagara Falls (Foot or 2) [with Travis Scott & 21 Savage]"
          ],
          [
           "Yonaguni"
          ],
          [
           "Super Freaky Girl"
          ],
          [
           "Running Up That Hill (A Deal With God)"
          ],
          [
           "Dream On"
          ],
          [
           "Limbo"
          ],
          [
           "Where Are You Now"
          ],
          [
           "WORTH NOTHING"
          ],
          [
           "Bad Habits"
          ],
          [
           "KICK BACK"
          ],
          [
           "Evergreen (You Didnï¿½ï¿½ï¿½t Deserve Me A"
          ],
          [
           "Good Days"
          ],
          [
           "Levitating (feat. DaBaby)"
          ],
          [
           "Woman"
          ],
          [
           "Shut up My Moms Calling - (Sped Up)"
          ],
          [
           "Ferrari"
          ],
          [
           "You're On Your Own, Kid"
          ],
          [
           "Kesariya (From \"Brahmastra\")"
          ],
          [
           "Agudo Mï¿½ï¿½gi"
          ],
          [
           "Payphone"
          ],
          [
           "All I Want for Christmas Is You"
          ],
          [
           "Last Christmas"
          ],
          [
           "Rockin' Around The Christmas Tree"
          ],
          [
           "Jingle Bell Rock"
          ],
          [
           "It's Beginning To Look A Lot Like Christmas"
          ],
          [
           "Santa Tell Me"
          ],
          [
           "It's the Most Wonderful Time of the Year"
          ],
          [
           "Let It Snow! Let It Snow! Let It Snow!"
          ],
          [
           "Snowman"
          ],
          [
           "Underneath the Tree"
          ],
          [
           "Feliz Navidad"
          ],
          [
           "Holly Jolly Christmas"
          ],
          [
           "Mistletoe"
          ],
          [
           "Sleigh Ride"
          ],
          [
           "Seek & Destroy"
          ],
          [
           "Love Language"
          ],
          [
           "Happy Xmas (War Is Over)"
          ],
          [
           "Used (feat. Don Toliver)"
          ],
          [
           "A Holly Jolly Christmas - Single Version"
          ],
          [
           "The Christmas Song (Merry Christmas To You) - Remastered 1999"
          ],
          [
           "Wonderful Christmastime - Edited Version / Remastered 2011"
          ],
          [
           "Do They Know It's Christmas? - 1984 Version"
          ],
          [
           "Ghost in the Machine (feat. Phoebe Bridgers)"
          ],
          [
           "Special"
          ],
          [
           "Merry Christmas Everyone"
          ],
          [
           "Let It Snow! Let It Snow! Let It Snow!"
          ],
          [
           "SOS"
          ],
          [
           "Open Arms (feat. Travis Scott)"
          ],
          [
           "White Christmas"
          ],
          [
           "Driving Home for Christmas - 2019 Remaster"
          ],
          [
           "Christmas (Baby Please Come Home)"
          ],
          [
           "Gone Girl"
          ],
          [
           "F2F"
          ],
          [
           "Notice Me"
          ],
          [
           "Merry Christmas"
          ],
          [
           "It's Beginning to Look a Lot Like Christmas (with Mitchell Ayres & His Orchestra)"
          ],
          [
           "My Only Wish (This Year)"
          ],
          [
           "Antidepresan"
          ],
          [
           "Wild Flower (with youjeen)"
          ],
          [
           "I Hate U"
          ],
          [
           "Raindrops (Insane) [with Travis Scott]"
          ],
          [
           "SPIT IN MY FACE!"
          ],
          [
           "Deck The Hall - Remastered 1999"
          ],
          [
           "Smoking on my Ex Pack"
          ],
          [
           "Conceited"
          ],
          [
           "Snow On The Beach (feat. Lana Del Rey)"
          ],
          [
           "Maroon"
          ],
          [
           "Tubarï¿½ï¿½o Te"
          ],
          [
           "Bejeweled"
          ],
          [
           "Tarot"
          ],
          [
           "You Make It Feel Like Christmas (feat. Blake Shelton)"
          ],
          [
           "Desesperados"
          ],
          [
           "Too Late"
          ],
          [
           "Party"
          ],
          [
           "Run Rudolph Run - Single Version"
          ],
          [
           "Jingle Bells - Remastered 1999"
          ],
          [
           "Far"
          ],
          [
           "On Time (with John Legend)"
          ],
          [
           "GATï¿½ï¿½"
          ],
          [
           "ýýýabcdefu"
          ],
          [
           "Sacrifice"
          ],
          [
           "Is There Someone Else?"
          ],
          [
           "Fingers Crossed"
          ],
          [
           "Out of Time"
          ],
          [
           "Do It To It"
          ],
          [
           "We Don't Talk About Bruno"
          ],
          [
           "Pepas"
          ],
          [
           "How Do I Make You Love Me?"
          ],
          [
           "Gasoline"
          ],
          [
           "Infinity"
          ],
          [
           "Less Than Zero"
          ],
          [
           "Take My Breath"
          ],
          [
           "good 4 u"
          ],
          [
           "Here We Goï¿½ï¿½ï¿½ Again (feat. Tyler, the Cr"
          ],
          [
           "Best Friends"
          ],
          [
           "Kiss Me More (feat. SZA)"
          ],
          [
           "I Heard You're Married (feat. Lil Wayne)"
          ],
          [
           "Need To Know"
          ],
          [
           "MONTERO (Call Me By Your Name)"
          ],
          [
           "love nwantiti (ah ah ah)"
          ],
          [
           "Dawn FM"
          ],
          [
           "Surface Pressure"
          ],
          [
           "Starry Eyes"
          ],
          [
           "THATS WHAT I WANT"
          ],
          [
           "One Right Now (with The Weeknd)"
          ],
          [
           "Beggin"
          ],
          [
           "Mon Amour - Remix"
          ],
          [
           "Lo Siento BB:/ (with Bad Bunny & Julieta Venegas)"
          ],
          [
           "MONEY"
          ],
          [
           "The Motto"
          ],
          [
           "Happier Than Ever"
          ],
          [
           "Moth To A Flame (with The Weeknd)"
          ],
          [
           "traitor"
          ],
          [
           "Toxic"
          ],
          [
           "drivers license"
          ],
          [
           "Malvadï¿½ï¿"
          ],
          [
           "All Too Well (10 Minute Version) (Taylor's Version) (From The Vault)"
          ],
          [
           "Donï¿½ï¿½ï¿½t Break My"
          ],
          [
           "Oh My God"
          ],
          [
           "Entre Nosotros (Remix) [con Nicki Nicole]"
          ],
          [
           "A Tale By Quincy"
          ],
          [
           "I AM WOMAN"
          ],
          [
           "Medallo"
          ],
          [
           "It'll Be Okay"
          ],
          [
           "Softcore"
          ],
          [
           "Super Gremlin"
          ],
          [
           "Volvï¿"
          ],
          [
           "Todo De Ti"
          ],
          [
           "Love Nwantiti - Remix"
          ],
          [
           "Smokin Out The Window"
          ],
          [
           "Meet Me At Our Spot"
          ],
          [
           "Every Angel is Terrifying"
          ],
          [
           "Tacones Rojos"
          ],
          [
           "Peaches (feat. Daniel Caesar & Giveon)"
          ],
          [
           "Dakiti"
          ],
          [
           "Tiago PZK: Bzrp Music Sessions, Vol. 48"
          ],
          [
           "Lï¿½ï¿½ï¿"
          ],
          [
           "Nostï¿½ï¿½l"
          ],
          [
           "Better Days (NEIKED x Mae Muller x Polo G)"
          ],
          [
           "Life Goes On"
          ],
          [
           "Sad Girlz Luv Money Remix (feat. Kali Uchis)"
          ],
          [
           "Butter"
          ],
          [
           "pushin P (feat. Young Thug)"
          ],
          [
           "You Right"
          ],
          [
           "deja vu"
          ],
          [
           "Dynamite"
          ],
          [
           "TO THE MOON"
          ],
          [
           "Lost in the Fire"
          ],
          [
           "Salimo de Noche"
          ],
          [
           "Volando - Remix"
          ],
          [
           "Leave The Door Open"
          ],
          [
           "Knife Talk (with 21 Savage ft. Project Pat)"
          ],
          [
           "Don't Be Shy"
          ],
          [
           null
          ],
          [
           "LA FAMA (with The Weeknd)"
          ],
          [
           "The Family Madrigal"
          ],
          [
           "Phantom Regret by Jim"
          ],
          [
           "Dos Oruguitas"
          ],
          [
           "Freaks"
          ],
          [
           "Acapulco"
          ],
          [
           "Daddy Issues"
          ],
          [
           "thought i was playing"
          ],
          [
           "ELEVEN"
          ],
          [
           "Mood (feat. Iann Dior)"
          ],
          [
           "What Else Can I Do?"
          ],
          [
           "DANCE CRIP"
          ],
          [
           "Miserable Man"
          ],
          [
           "happier"
          ],
          [
           "Praise God"
          ],
          [
           "Get Into It (Yuh)"
          ],
          [
           "Before You Go"
          ],
          [
           "Sky"
          ],
          [
           "Rolling in the Deep"
          ],
          [
           "Sobrio"
          ],
          [
           "Peru"
          ],
          [
           "favorite crime"
          ],
          [
           "Thunder"
          ],
          [
           "The Business"
          ],
          [
           "positions"
          ],
          [
           "I WANNA BE YOUR SLAVE"
          ],
          [
           "Vai Lï¿½ï¿½ Em Casa "
          ],
          [
           "The Feels"
          ],
          [
           "HEARTBREAK ANNIVERSARY"
          ],
          [
           "No Lie"
          ],
          [
           "OUT OUT (feat. Charli XCX & Saweetie)"
          ],
          [
           "Pope Is a Rockstar"
          ],
          [
           "2055"
          ],
          [
           "Bored"
          ],
          [
           "Happier Than Ever - Edit"
          ],
          [
           "Astronaut In The Ocean"
          ],
          [
           "Ley Seca"
          ],
          [
           "Every Summertime"
          ],
          [
           "Talking To The Moon"
          ],
          [
           "you broke me first"
          ],
          [
           "The Nights"
          ],
          [
           "Take My Breath"
          ],
          [
           "Way 2 Sexy (with Future & Young Thug)"
          ],
          [
           "Cï¿½ï¿½"
          ],
          [
           "Enemy - from the series Arcane League of Legends"
          ],
          [
           "Dance Monkey"
          ],
          [
           "Lucid Dreams"
          ],
          [
           "Quï¿½ï¿½ Mï¿½ï¿"
          ],
          [
           "All of Me"
          ],
          [
           "Smells Like Teen Spirit - Remastered 2021"
          ],
          [
           "Arcade"
          ],
          [
           "Fair Trade (with Travis Scott)"
          ],
          [
           "Bar"
          ],
          [
           "The Rumbling (TV Size)"
          ],
          [
           "family ties (with Kendrick Lamar)"
          ],
          [
           "Mr. Brightside"
          ],
          [
           "Blessed-Cursed"
          ],
          [
           "AM Remix"
          ],
          [
           "Streets"
          ],
          [
           "Shallow"
          ],
          [
           "Polaroid Love"
          ],
          [
           "Leave Before You Love Me (with Jonas Brothers)"
          ],
          [
           "Permission to Dance"
          ],
          [
           "Friday (feat. Mufasa & Hypeman) - Dopamine Re-Edit"
          ],
          [
           "RAPSTAR"
          ],
          [
           "'Till I Collapse"
          ],
          [
           "Memories"
          ],
          [
           "Se Le Ve"
          ],
          [
           "25k jacket (feat. Lil Baby)"
          ],
          [
           "When Iï¿½ï¿½ï¿½m Gone (with Katy "
          ],
          [
           "Esqueï¿½ï¿½a-Me Se For C"
          ],
          [
           "Miï¿½ï¿½n"
          ],
          [
           "Sï¿½ï¿½"
          ],
          [
           "MAMIII"
          ],
          [
           "Still D.R.E."
          ],
          [
           "Stay Alive (Prod. SUGA of BTS)"
          ],
          [
           "Boyfriend"
          ],
          [
           "The Joker And The Queen (feat. Taylor Swift)"
          ],
          [
           "The Next Episode"
          ],
          [
           "Light Switch"
          ],
          [
           "City of Gods"
          ],
          [
           "Brividi"
          ],
          [
           "Lost"
          ],
          [
           "In Da Club"
          ],
          [
           "she's all i wanna be"
          ],
          [
           "Ginseng Strip 2002"
          ],
          [
           "All For Us - from the HBO Original Series Euphoria"
          ],
          [
           "Notion"
          ],
          [
           "Formula"
          ],
          [
           "Mount Everest"
          ],
          [
           "Excuses"
          ],
          [
           "Cigarettes"
          ],
          [
           "Cayï¿½ï¿½ La Noche (feat. Cruz Cafunï¿½ï¿½, Abhir Hathi, Bejo, EL IMA)"
          ],
          [
           "California Love - Original Version (Explicit)"
          ],
          [
           "Forgot About Dre"
          ],
          [
           "Down Under (feat. Colin Hay)"
          ],
          [
           "Mujeriego"
          ],
          [
           "HUMBLE."
          ],
          [
           "Stan"
          ],
          [
           "Contection"
          ],
          [
           "Swim"
          ],
          [
           "A Tu Merced"
          ],
          [
           "Numb Little Bug"
          ],
          [
           "212"
          ],
          [
           "Problemï¿½"
          ],
          [
           "Bussin"
          ],
          [
           "Worst Day"
          ],
          [
           "Malvada"
          ],
          [
           "Hrs and Hrs"
          ],
          [
           "Alien Blues"
          ],
          [
           "Thinking Out Loud"
          ],
          [
           "Still Don't Know My Name"
          ],
          [
           "Christmas Tree"
          ],
          [
           "Mal Feito - Ao Vivo"
          ],
          [
           "When I R.I.P."
          ],
          [
           "Do We Have A Problem?"
          ],
          [
           "Forever"
          ],
          [
           "Gospel (with Eminem)"
          ],
          [
           "Seï¿½ï¿½o"
          ],
          [
           "NEW MAGIC WAND"
          ],
          [
           "Adore You"
          ],
          [
           "La Santa"
          ],
          [
           "Something In The Way - Remastered 2021"
          ],
          [
           "Sweetest Pie"
          ],
          [
           "Bam Bam (feat. Ed Sheeran)"
          ],
          [
           "Una Noche en Medellï¿½"
          ],
          [
           "Envolver"
          ],
          [
           "Starlight"
          ],
          [
           "Hati-Hati di Jalan"
          ],
          [
           "I'm Tired - From \"Euphoria\" An Original HBO Series"
          ],
          [
           "DANï¿½ï¿½A"
          ],
          [
           "Yo Voy (feat. Daddy Yankee)"
          ],
          [
           "Residente: Bzrp Music Sessions, Vol. 49"
          ],
          [
           "Jordan"
          ],
          [
           "Nail Tech"
          ],
          [
           "Chale"
          ],
          [
           "DARARI"
          ],
          [
           "Ya No Somos Ni Seremos"
          ],
          [
           "Thinking with My Dick"
          ],
          [
           "Freaky Deaky"
          ],
          [
           "this is what falling in love feels like"
          ],
          [
           "La Zona"
          ],
          [
           "Bohemian Rhapsody - Remastered 2011"
          ],
          [
           "Hope"
          ],
          [
           "Levitating"
          ],
          [
           "Wake Me Up - Radio Edit"
          ],
          [
           "jealousy, jealousy"
          ],
          [
           "Monï¿½ï¿½y so"
          ],
          [
           "Demasiadas Mujeres"
          ],
          [
           "Something Just Like This"
          ],
          [
           "Closer"
          ],
          [
           "O.O"
          ],
          [
           "Somebody That I Used To Know"
          ],
          [
           "Tom's Diner"
          ],
          [
           "First Class"
          ],
          [
           "Plan A"
          ],
          [
           "Fuera del mercado"
          ],
          [
           "X ï¿½ï¿½LTIMA"
          ],
          [
           "When You're Gone"
          ],
          [
           "In My Head"
          ],
          [
           "Wait a Minute!"
          ],
          [
           "LOVE DIVE"
          ],
          [
           "Pantysito"
          ],
          [
           "Chance"
          ],
          [
           "Cool for the Summer"
          ],
          [
           "psychofreak (feat. WILLOW)"
          ],
          [
           "Angel Baby"
          ],
          [
           "Vampiro"
          ],
          [
           "Si Quieren Frontear"
          ],
          [
           "Right On"
          ],
          [
           "Me Arrepentï¿"
          ],
          [
           "That's Hilarious"
          ],
          [
           "Soy El Unico"
          ],
          [
           "RUMBATï¿½"
          ],
          [
           "sentaDONA (Remix) s2"
          ],
          [
           "Falling"
          ],
          [
           "Sigue"
          ],
          [
           "Fim de Semana no Rio"
          ],
          [
           "MANIAC"
          ],
          [
           "There's Nothing Holdin' Me Back"
          ],
          [
           "IDGAF (with blackbear)"
          ],
          [
           "Golden"
          ],
          [
           "Get Lucky - Radio Edit"
          ],
          [
           "Ain't Shit"
          ],
          [
           "Nobody Like U - From \"Turning Red\""
          ],
          [
           "Still Life"
          ],
          [
           "Photograph"
          ],
          [
           "Love Yourself"
          ],
          [
           "N95"
          ],
          [
           "About Damn Time"
          ],
          [
           "Die Hard"
          ],
          [
           "Despuï¿½ï¿½s de la P"
          ],
          [
           "Un Ratito"
          ],
          [
           "United In Grief"
          ],
          [
           "Father Time (feat. Sampha)"
          ],
          [
           "Yo No Soy Celoso"
          ],
          [
           "Rich Spirit"
          ],
          [
           "Cooped Up (with Roddy Ricch)"
          ],
          [
           "Me Fui de Vacaciones"
          ],
          [
           "Silent Hill"
          ],
          [
           "La Corriente"
          ],
          [
           "Count Me Out"
          ],
          [
           "Andrea"
          ],
          [
           "Dos Mil 16"
          ],
          [
           "We Cry Together"
          ],
          [
           "Savior"
          ],
          [
           "Un Coco"
          ],
          [
           "Otro Atardecer"
          ],
          [
           "Worldwide Steppers"
          ],
          [
           "Aguacero"
          ],
          [
           "Purple Hearts"
          ],
          [
           "Un Verano Sin Ti"
          ],
          [
           "ULTRA SOLO"
          ],
          [
           "Ensï¿½ï¿½ï¿½ï¿½ame "
          ],
          [
           "El Apagï¿½"
          ],
          [
           "Callaita"
          ],
          [
           "Dua Lipa"
          ],
          [
           "Agosto"
          ],
          [
           "House Of Memories"
          ],
          [
           "Mr. Morale"
          ],
          [
           "That That (prod. & feat. SUGA of BTS)"
          ],
          [
           "In The Stars"
          ],
          [
           "Rich - Interlude"
          ],
          [
           "SUPERMODEL"
          ],
          [
           "Stefania (Kalush Orchestra)"
          ],
          [
           "Thousand Miles"
          ],
          [
           "Crown"
          ],
          [
           "Auntie Diaries"
          ],
          [
           "PUFFIN ON ZOOTIEZ"
          ],
          [
           "Mirror"
          ],
          [
           "Beautiful Girl"
          ],
          [
           "Paulo Londra: Bzrp Music Sessions, Vol. 23"
          ],
          [
           "Savior - Interlude"
          ],
          [
           "Pasoori"
          ],
          [
           "Mother I Sober (feat. Beth Gibbons of Portishead)"
          ],
          [
           "TUS Lï¿½ï¿½GR"
          ],
          [
           "Where Did You Go?"
          ],
          [
           "I Tried to Tell Y'all"
          ],
          [
           "Honest (feat. Don Toliver)"
          ],
          [
           "ZOOM"
          ],
          [
           "SloMo"
          ],
          [
           "FEARLESS"
          ],
          [
           "10 Things I Hate About You"
          ],
          [
           "SPACE MAN"
          ],
          [
           "With you"
          ],
          [
           "Iris"
          ],
          [
           "The Heart Part 5"
          ],
          [
           "San Lucas"
          ],
          [
           "This Love (Taylorï¿½ï¿½ï¿½s Ve"
          ],
          [
           "Good Looking"
          ],
          [
           "Flowers"
          ],
          [
           "Yet To Come"
          ],
          [
           "Run BTS"
          ],
          [
           "Music For a Sushi Restaurant"
          ],
          [
           "Matilda"
          ],
          [
           "For Youth"
          ],
          [
           "Daylight"
          ],
          [
           "Vegas (From the Original Motion Picture Soundtrack ELVIS)"
          ],
          [
           "Cash In Cash Out"
          ],
          [
           "Potion (with Dua Lipa & Young Thug)"
          ],
          [
           "Born Singer"
          ],
          [
           "Little Freak"
          ],
          [
           "La Llevo Al Cielo (Ft. ï¿½ï¿½engo F"
          ],
          [
           "True Love"
          ],
          [
           "Satellite"
          ],
          [
           "Pass The Dutchie"
          ],
          [
           "Villano Antillano: Bzrp Music Sessions, Vol. 51"
          ],
          [
           "Love Of My Life"
          ],
          [
           "Grapejuice"
          ],
          [
           "So Good"
          ],
          [
           "Belly Dancer"
          ],
          [
           "Keep Driving"
          ],
          [
           "Cinema"
          ],
          [
           "Die Young (feat. 347aidan)"
          ],
          [
           "Only Love Can Hurt Like This"
          ],
          [
           "Hold My Hand"
          ],
          [
           "Daydreaming"
          ],
          [
           "Numb"
          ],
          [
           "Nos Comemos (feat. Ozuna)"
          ],
          [
           "Me and Your Mama"
          ],
          [
           "Crazy What Love Can Do"
          ],
          [
           "SLOW DANCING IN THE DARK"
          ],
          [
           "Antes de Perderte"
          ],
          [
           "Boyfriends"
          ],
          [
           "295"
          ],
          [
           "Tak Ingin Usai"
          ],
          [
           "En El Radio Un Cochinero"
          ],
          [
           "Master of Puppets (Remastered)"
          ],
          [
           "BREAK MY SOUL"
          ],
          [
           "ULTRA SOLO REMIX"
          ],
          [
           "Massive"
          ],
          [
           "Betty (Get Money)"
          ],
          [
           "Ojos Marrones"
          ],
          [
           "POP!"
          ],
          [
           "Layla"
          ],
          [
           "MORE"
          ],
          [
           "Sweet Child O' Mine"
          ],
          [
           "Last Last"
          ],
          [
           "SNAP"
          ],
          [
           "Sticky"
          ],
          [
           "Hot Shit (feat. Ye & Lil Durk)"
          ],
          [
           "Ai Preto"
          ],
          [
           "La Loto"
          ],
          [
           "die first"
          ],
          [
           "Afraid To Feel"
          ],
          [
           "Baile no Morro"
          ],
          [
           "cï¿½ï¿½mo dormi"
          ],
          [
           "Bad Decisions (with BTS & Snoop Dogg)"
          ],
          [
           "STAYING ALIVE (feat. Drake & Lil Baby)"
          ],
          [
           "Caile"
          ],
          [
           "Si Te La Encuentras Por Ahï¿"
          ],
          [
           "GIVENCHY"
          ],
          [
           "ALIEN SUPERSTAR"
          ],
          [
           "Mary On A Cross"
          ],
          [
           "Attention"
          ],
          [
           "THE SHADE"
          ],
          [
           "Come Back Home - From \"Purple Hearts\""
          ],
          [
           "El Rescate"
          ],
          [
           "Heartless"
          ],
          [
           "Stay With Me (with Justin Timberlake, Halsey, & Pharrell)"
          ],
          [
           "Siempre Pendientes"
          ],
          [
           "JGL"
          ],
          [
           "Don't You Worry"
          ],
          [
           "Pipoco"
          ],
          [
           "Hold Me Closer"
          ],
          [
           "Forget Me"
          ],
          [
           "After LIKE"
          ],
          [
           "Bound 2"
          ],
          [
           "B.O.T.A. (Baddest Of Them All) - Edit"
          ],
          [
           "Talk that Talk"
          ],
          [
           "BILLIE EILISH."
          ],
          [
           "Ferxxo 100"
          ],
          [
           "KU LO SA - A COLORS SHOW"
          ],
          [
           "Prohibidox"
          ],
          [
           "Static"
          ],
          [
           "The Scientist"
          ],
          [
           "Sparks"
          ],
          [
           "Talk"
          ],
          [
           "XQ Te Pones Asï¿"
          ],
          [
           "Selfish"
          ],
          [
           "Sin Seï¿½ï"
          ],
          [
           "Lady Mi Amor"
          ],
          [
           "Poland"
          ],
          [
           "THE LONELIEST"
          ],
          [
           "Bye Bye"
          ],
          [
           "BABY OTAKU"
          ],
          [
           "Nxde"
          ],
          [
           "Miss You"
          ],
          [
           "we fell in love in october"
          ],
          [
           "2 Be Loved (Am I Ready)"
          ],
          [
           "Celestial"
          ],
          [
           "Typa Girl"
          ],
          [
           "I Really Want to Stay at Your House"
          ],
          [
           "California Breeze"
          ],
          [
           "Bamba (feat. Aitch & BIA)"
          ],
          [
           "Casei Com a Putaria"
          ],
          [
           "Major Distribution"
          ],
          [
           "Pussy & Millions (feat. Travis Scott)"
          ],
          [
           "Vigilante Shit"
          ],
          [
           "Question...?"
          ],
          [
           "On BS"
          ],
          [
           "Mastermind"
          ],
          [
           "Circo Loco"
          ],
          [
           "Labyrinth"
          ],
          [
           "Spin Bout U"
          ],
          [
           "Sweet Nothing"
          ],
          [
           "Would've, Could've, Should've"
          ],
          [
           "Con La Brisa"
          ],
          [
           "Privileged Rappers"
          ],
          [
           "The Astronaut"
          ],
          [
           "BackOutsideBoyz"
          ],
          [
           "Broke Boys"
          ],
          [
           "The Great War"
          ],
          [
           "My Mind & Me"
          ],
          [
           "Bigger Than The Whole Sky"
          ],
          [
           "A Veces (feat. Feid)"
          ],
          [
           "En La De Ella"
          ]
         ],
         "hovertemplate": "x=%{x}<br>y=%{y}<br>title=%{customdata[0]}<br>cluster=%{marker.color}<extra></extra>",
         "legendgroup": "",
         "marker": {
          "color": [
           1,
           0,
           1,
           1,
           1,
           1,
           1,
           0,
           1,
           0,
           1,
           0,
           1,
           1,
           1,
           1,
           1,
           1,
           0,
           0,
           0,
           0,
           1,
           0,
           1,
           0,
           1,
           0,
           0,
           1,
           0,
           0,
           1,
           1,
           1,
           0,
           0,
           1,
           1,
           0,
           0,
           1,
           1,
           1,
           1,
           0,
           1,
           1,
           1,
           0,
           0,
           1,
           0,
           0,
           1,
           1,
           0,
           1,
           0,
           1,
           0,
           1,
           0,
           1,
           0,
           1,
           0,
           0,
           0,
           0,
           0,
           1,
           1,
           1,
           1,
           1,
           0,
           1,
           0,
           0,
           1,
           0,
           0,
           0,
           1,
           0,
           1,
           1,
           1,
           0,
           0,
           0,
           0,
           0,
           0,
           0,
           0,
           0,
           1,
           0,
           1,
           0,
           0,
           1,
           0,
           0,
           1,
           0,
           1,
           1,
           1,
           0,
           0,
           0,
           1,
           1,
           1,
           0,
           0,
           0,
           0,
           1,
           0,
           0,
           0,
           0,
           1,
           1,
           1,
           0,
           0,
           0,
           1,
           1,
           1,
           0,
           0,
           0,
           1,
           0,
           1,
           0,
           0,
           1,
           0,
           0,
           1,
           1,
           0,
           0,
           0,
           0,
           1,
           0,
           0,
           0,
           0,
           1,
           0,
           1,
           0,
           0,
           1,
           0,
           1,
           1,
           1,
           1,
           1,
           0,
           0,
           0,
           1,
           1,
           0,
           0,
           1,
           1,
           1,
           1,
           0,
           0,
           1,
           0,
           1,
           0,
           1,
           1,
           1,
           1,
           0,
           0,
           1,
           0,
           0,
           1,
           0,
           0,
           0,
           1,
           0,
           0,
           0,
           0,
           0,
           0,
           0,
           0,
           0,
           0,
           0,
           0,
           0,
           0,
           0,
           0,
           1,
           0,
           0,
           0,
           0,
           0,
           0,
           0,
           0,
           0,
           0,
           0,
           0,
           0,
           1,
           1,
           0,
           0,
           0,
           0,
           0,
           0,
           0,
           0,
           0,
           0,
           0,
           1,
           1,
           0,
           1,
           0,
           0,
           0,
           1,
           0,
           0,
           0,
           0,
           0,
           0,
           0,
           0,
           0,
           0,
           0,
           0,
           0,
           0,
           0,
           0,
           0,
           0,
           0,
           0,
           1,
           0,
           0,
           1,
           0,
           0,
           0,
           1,
           0,
           0,
           0,
           0,
           0,
           0,
           0,
           0,
           0,
           0,
           0,
           0,
           0,
           1,
           0,
           0,
           1,
           1,
           0,
           0,
           0,
           0,
           0,
           0,
           1,
           0,
           0,
           0,
           0,
           1,
           0,
           1,
           0,
           0,
           0,
           0,
           0,
           0,
           0,
           0,
           0,
           0,
           0,
           0,
           0,
           1,
           1,
           0,
           0,
           0,
           0,
           0,
           1,
           0,
           0,
           0,
           0,
           0,
           0,
           0,
           0,
           0,
           0,
           0,
           0,
           0,
           0,
           0,
           0,
           0,
           0,
           0,
           0,
           0,
           0,
           0,
           0,
           0,
           0,
           1,
           0,
           0,
           0,
           0,
           0,
           0,
           1,
           0,
           0,
           1,
           0,
           0,
           0,
           0,
           0,
           0,
           0,
           0,
           1,
           0,
           0,
           0,
           0,
           0,
           0,
           0,
           0,
           0,
           0,
           0,
           0,
           0,
           0,
           1,
           0,
           0,
           1,
           0,
           0,
           0,
           0,
           1,
           0,
           0,
           1,
           0,
           0,
           0,
           1,
           0,
           0,
           1,
           0,
           0,
           0,
           0,
           0,
           0,
           0,
           0,
           0,
           0,
           0,
           1,
           0,
           1,
           0,
           0,
           1,
           0,
           1,
           0,
           0,
           0,
           1,
           1,
           0,
           0,
           0,
           0,
           0,
           1,
           1,
           1,
           1,
           1,
           0,
           1,
           1,
           0,
           0,
           0,
           0,
           0,
           1,
           1,
           0,
           0,
           0,
           0,
           1,
           1,
           0,
           1,
           0,
           0,
           0,
           1,
           0,
           0,
           1,
           0,
           1,
           0,
           0,
           0,
           0,
           0,
           0,
           0,
           0,
           0,
           0,
           0,
           0,
           0,
           0,
           0,
           0,
           0,
           0,
           0,
           0,
           0,
           0,
           0,
           1,
           0,
           0,
           0,
           0,
           1,
           0,
           0,
           0,
           0,
           0,
           0,
           1,
           0,
           0,
           0,
           0,
           0,
           1,
           0,
           0,
           1,
           0,
           0,
           1,
           0,
           0,
           0,
           0,
           0,
           0,
           1,
           0,
           0,
           0,
           1,
           1,
           1,
           0,
           0,
           1,
           0,
           0,
           0,
           0,
           0,
           0,
           0,
           0,
           0,
           0,
           0,
           0,
           1,
           0,
           0,
           0,
           0,
           0,
           1,
           1,
           0,
           0,
           0,
           0,
           0,
           0,
           1,
           0,
           0,
           0,
           1,
           0,
           0,
           0,
           0,
           1,
           0,
           0,
           null,
           0,
           0,
           0,
           0,
           0,
           0,
           0,
           0,
           0,
           1,
           0,
           0,
           0,
           0,
           0,
           0,
           1,
           0,
           1,
           0,
           0,
           0,
           0,
           1,
           0,
           0,
           0,
           0,
           0,
           0,
           0,
           0,
           0,
           0,
           0,
           0,
           0,
           0,
           0,
           0,
           1,
           0,
           0,
           0,
           0,
           1,
           1,
           0,
           1,
           1,
           0,
           0,
           0,
           0,
           0,
           1,
           0,
           0,
           0,
           1,
           0,
           0,
           0,
           0,
           0,
           1,
           1,
           0,
           0,
           0,
           0,
           0,
           0,
           1,
           1,
           0,
           0,
           0,
           1,
           0,
           0,
           0,
           1,
           1,
           0,
           0,
           0,
           0,
           0,
           0,
           0,
           0,
           0,
           0,
           0,
           0,
           0,
           1,
           0,
           0,
           0,
           0,
           0,
           0,
           0,
           0,
           0,
           0,
           0,
           0,
           1,
           0,
           0,
           0,
           0,
           0,
           0,
           0,
           1,
           0,
           1,
           0,
           0,
           0,
           1,
           0,
           0,
           0,
           0,
           0,
           0,
           0,
           0,
           0,
           0,
           0,
           0,
           0,
           0,
           0,
           0,
           0,
           1,
           0,
           1,
           1,
           0,
           0,
           0,
           1,
           1,
           0,
           1,
           0,
           1,
           0,
           0,
           0,
           0,
           0,
           1,
           0,
           0,
           0,
           0,
           0,
           0,
           0,
           0,
           0,
           0,
           0,
           0,
           0,
           0,
           0,
           0,
           0,
           0,
           1,
           0,
           0,
           1,
           0,
           0,
           0,
           1,
           1,
           0,
           1,
           0,
           0,
           0,
           0,
           0,
           0,
           0,
           0,
           0,
           0,
           0,
           0,
           0,
           0,
           0,
           0,
           0,
           0,
           0,
           0,
           0,
           0,
           0,
           0,
           0,
           1,
           0,
           0,
           0,
           0,
           0,
           0,
           0,
           0,
           0,
           0,
           0,
           0,
           0,
           0,
           0,
           0,
           0,
           0,
           0,
           0,
           0,
           0,
           0,
           0,
           0,
           0,
           0,
           0,
           0,
           1,
           0,
           0,
           0,
           0,
           0,
           0,
           0,
           0,
           0,
           0,
           0,
           0,
           0,
           0,
           0,
           0,
           0,
           0,
           0,
           0,
           0,
           0,
           0,
           0,
           0,
           0,
           0,
           0,
           0,
           0,
           0,
           0,
           0,
           0,
           0,
           0,
           0,
           0,
           0,
           0,
           0,
           1,
           1,
           0,
           0,
           0,
           0,
           0,
           0,
           0,
           1,
           1,
           0,
           0,
           0,
           0,
           0,
           0,
           0,
           0,
           0,
           0,
           0,
           0,
           0,
           0,
           0,
           0,
           0,
           0,
           0,
           0,
           1,
           0,
           0,
           0,
           0,
           0,
           0,
           0,
           0,
           0,
           0,
           0,
           0,
           0,
           0,
           0,
           0,
           1,
           0,
           0,
           0,
           0,
           0,
           0,
           0,
           0,
           0,
           0,
           0,
           0,
           0,
           0,
           0,
           0,
           0,
           0,
           0,
           0,
           0,
           0,
           0,
           0,
           0,
           0,
           0,
           0,
           0,
           0,
           0,
           0,
           0,
           0,
           0,
           0,
           0,
           0,
           0,
           0,
           0
          ],
          "coloraxis": "coloraxis",
          "symbol": "circle"
         },
         "mode": "markers",
         "name": "",
         "orientation": "v",
         "showlegend": false,
         "type": "scatter",
         "x": [
          3.224663054126778,
          1.1521212496343618,
          2.8519128383373555,
          3.6461243286564953,
          1.5177055333182994,
          2.2648487745577124,
          2.2351685217974624,
          0.42205036192558637,
          1.9074897472002679,
          0.8081247879340229,
          1.671857013869332,
          1.0876778689211386,
          7.914664349100109,
          2.9809090380631433,
          9.620984122064502,
          3.5553036801674796,
          2.2911067301809265,
          2.9332803310024413,
          0.7003398242808755,
          0.6170359631472775,
          0.014152534273499528,
          0.3679995826456633,
          2.989650630864325,
          0.7277191782041489,
          1.7557156572444357,
          0.203529894827824,
          4.358252700821984,
          0.460640178121295,
          0.3250309930085748,
          2.0671941839775343,
          1.0009416106740798,
          0.7043027293689599,
          3.133683992585603,
          3.202987771538986,
          1.79201149547696,
          -1.0394574435108428,
          0.32263790664728764,
          2.871544255083359,
          1.8452410847448408,
          0.464421146473889,
          0.01706859033699843,
          6.029140346957924,
          6.220876552609246,
          1.563950706819002,
          1.3434816183955594,
          0.02000283439012259,
          4.993271028539186,
          1.2560794412156957,
          5.524221513303292,
          0.6045817718882781,
          0.01490649583133408,
          1.805176138306229,
          0.10231816513543646,
          0.3366612517726952,
          5.322546271995376,
          11.037535858162023,
          0.35496423949066574,
          2.575666982545189,
          -0.03126973350325483,
          1.3836075843294446,
          -0.9442327270939562,
          1.481947623096232,
          -0.42934469070275966,
          1.145145674950066,
          0.6137589692135088,
          4.095490521444516,
          -0.3850595047096774,
          0.9932461014167114,
          -0.5633661245807541,
          -0.3321689569831505,
          -0.2107303166768684,
          6.978220505476557,
          1.2690257067219903,
          3.9096342157212307,
          2.2365242443625983,
          4.611312783553128,
          0.4767988286879624,
          3.3808373009874217,
          0.8984382569662912,
          -1.012644192048102,
          5.557107450715725,
          0.3461348000421483,
          -1.6976564050829062,
          -0.6872943228134837,
          6.948095676425138,
          0.7754914598923056,
          5.702417053753525,
          3.151882684286234,
          2.3564417356676284,
          -0.414352084902188,
          -0.26661386259663855,
          -0.3992572782098272,
          0.2403438525252579,
          -0.03722176664816906,
          -0.4130438589665217,
          -0.12277583068833069,
          0.1866399074473202,
          0.5094308239276952,
          3.0212455667405096,
          0.207868544265008,
          1.7582535349817814,
          0.3017412112991579,
          0.5182702317606978,
          2.2444670684425345,
          0.20282989164376192,
          -0.6180716674079376,
          6.37039548555412,
          0.9206165795911704,
          2.1454579359740937,
          2.6066250123936445,
          2.3980992689412015,
          -1.4966974966398188,
          -0.656224606046715,
          -0.812991872596514,
          3.4573954918910976,
          2.0455574403433983,
          1.6456626607544094,
          -0.6791655814977924,
          -0.1611493443477356,
          0.33947940841732444,
          -0.6128729912425509,
          1.7001254493249551,
          0.020364022369655604,
          0.0585180933224536,
          -0.061897572424935765,
          0.3289873556175943,
          2.6653464608551363,
          5.780727572611083,
          3.3785057181948095,
          -0.44149598202335094,
          -0.10683888021136793,
          0.323794969284383,
          1.2863937467966797,
          2.645115972176909,
          1.673543920722963,
          -1.2605053130840786,
          -0.5542669313883744,
          -1.2445546195576196,
          1.7213177165411309,
          0.11788958447855385,
          4.65384383024512,
          -1.8252365440096059,
          -1.850331589392592,
          3.093701254388539,
          -0.8507370259457173,
          -0.7124493443667683,
          1.8260599862583218,
          2.1604337522941695,
          -0.4873566838633972,
          -0.33100883272134496,
          -0.8566232781285077,
          -0.4605428571007089,
          2.3299964748722397,
          -0.7117933036536881,
          -0.11808622187170657,
          -1.0449471426550865,
          0.7841275971362738,
          4.745245455678076,
          0.8762059724865804,
          1.708107122287476,
          0.5638249826738224,
          0.9228178826232675,
          6.291145558813589,
          0.5630515002022985,
          2.5136882312567885,
          2.1814617492466875,
          3.4061715216746196,
          1.9304825802739793,
          4.387656489928625,
          -0.11715463630360955,
          0.08155794708057894,
          -0.9920392263513396,
          3.709459062940761,
          3.0315514365218386,
          -0.22252871300146207,
          0.16134177479922407,
          3.4965243351412965,
          2.267473634117472,
          1.9590383345787001,
          3.7451719751090407,
          0.3082952439223901,
          -0.5943325446401405,
          3.4440448674321718,
          -0.725079523526105,
          1.179600086548205,
          -1.5080025835870483,
          1.6825642388785167,
          4.265196793691178,
          1.8755766483790328,
          3.7174585898322112,
          0.3049987077283452,
          -0.01074894660274173,
          2.5795806092303293,
          -1.0913092840507106,
          -0.6506434467171902,
          1.8963486421479732,
          -0.43730591192377904,
          -0.5300704199541715,
          -0.06827039852696402,
          3.4809855500838776,
          -1.418976214547374,
          -1.6758821157385715,
          -0.24780246878124154,
          -0.15796178334035016,
          -1.2264277144623963,
          -0.9238311944425827,
          -1.417769426925702,
          -0.668601342572612,
          -1.4263071219898922,
          -1.491766590226526,
          -1.238598334151298,
          -1.1463131620838383,
          -1.7312012071490288,
          -0.3437427610668297,
          -1.907636825178062,
          0.277221940409925,
          1.3639103079763253,
          0.37597117710083544,
          -1.5828806658487893,
          -0.7517349624501127,
          -0.7981347982988316,
          0.052366380752295265,
          -0.8155100063448216,
          -1.8393967318292006,
          -0.4123520397343064,
          0.05839235710152678,
          -0.9379019718388744,
          0.2583102802967779,
          -1.7769581453490813,
          -1.2615206335329587,
          1.6469420880319374,
          2.3474517595093394,
          -1.3590941532266898,
          -1.1904366553851857,
          -0.6782937246899864,
          -0.6451066449576435,
          -1.4877574437554966,
          -0.12316539801236179,
          -2.337641871450447,
          0.7611400364743843,
          -0.8980123197810497,
          -0.7511124143633487,
          -0.2602656249778363,
          1.2132966168198123,
          1.305753164895893,
          -0.03131778665781344,
          3.295459439599614,
          -2.4385143650931207,
          -1.8462007534265898,
          -1.146564219389288,
          2.3000683550728125,
          -0.9392023833299594,
          -0.16220875217095465,
          0.510448759797968,
          -1.551650554425257,
          -1.2613557479638635,
          -0.6041712620226435,
          -1.0192660260610065,
          -1.5378217485219776,
          -0.8810455564319524,
          -1.24636116122873,
          0.08705306204109613,
          -0.40431880975075346,
          -0.7131814723792177,
          -0.3996580554393987,
          -1.043188003134162,
          -1.7387343728231754,
          -0.6068538627641127,
          -1.8941166066357773,
          -1.0321471219509706,
          -1.3287349707502807,
          1.660640031799301,
          -1.72601308059758,
          -0.7292874466733518,
          3.0750457287016304,
          -0.9210046324770426,
          -0.923915982391089,
          -1.4851205753909387,
          2.108874696450188,
          -0.008193409974577109,
          -1.3290499552704123,
          0.1644926395697252,
          -0.2962350415093286,
          -0.37214531962020936,
          -0.6456829264767017,
          -1.4512101233063837,
          -1.3651852618293456,
          -0.6202643604181522,
          0.17338707893191116,
          -1.7334470907522321,
          0.15575048400808789,
          -0.6332914029638885,
          1.9552629833378796,
          -0.6479439001673934,
          -0.8989412158647274,
          1.2015945809458475,
          3.8474945673375,
          0.17824010469674506,
          -0.8987869793078563,
          -1.3303221412582695,
          -1.366908090602119,
          -1.7881354030829126,
          -1.9149138128720078,
          1.7516559727656833,
          -1.7983839131356592,
          -1.3979307958929783,
          -1.6434760734281417,
          -1.6360529319963617,
          1.5004285865489397,
          -0.596819881047836,
          2.152203639029881,
          0.7298715245927834,
          -1.3887396672556345,
          -1.0854991556237976,
          -1.0580222231603362,
          -0.3176185357410181,
          -0.32718424608063995,
          0.2848489848817766,
          -1.4004857048131931,
          -0.16297320134971632,
          0.5830990314125689,
          -0.7410023126065044,
          0.016424806532503843,
          0.7370156772259105,
          2.9990473951979784,
          2.912101271486844,
          -1.3702276317294146,
          -1.8296983748080755,
          -1.3056948437222338,
          0.26899896566982956,
          -0.8934254482654556,
          1.208337124260749,
          -1.2343663192706464,
          -0.9721382473063569,
          -0.863833053937627,
          0.01804762826622954,
          -1.2391334689894322,
          -0.5552017265921849,
          -1.5424073882720948,
          -0.9119606461469223,
          -0.9495145123161265,
          -1.2642360762766451,
          -1.503216750555324,
          -1.1977143798423795,
          -1.0258415433408192,
          -1.0123791448867214,
          -0.960554221155613,
          -1.1857733265102035,
          -1.4506315685220412,
          -1.5152092841828748,
          0.25756900647323805,
          -1.491184939245938,
          -0.19115431495679658,
          -0.13656295917046965,
          -0.08372722225743881,
          -1.3318763619591851,
          -0.8052867624261526,
          -0.8495377990680962,
          1.9476852092406294,
          -1.4154326270627606,
          -1.602282855567705,
          0.5978911580601237,
          0.2471345056952478,
          -0.719843868870307,
          -2.1664240659323832,
          1.3903575202899074,
          -0.9100142494450425,
          -0.7947434543472944,
          1.820340775606243,
          -0.6373161201495708,
          -1.2317577381822324,
          0.6109990507735056,
          -1.012673632321902,
          -1.387415565618338,
          -0.17707714582505063,
          -0.7333767073342004,
          -0.8177004633611086,
          1.4279491959268436,
          -0.3184798334675083,
          -1.4660928056834754,
          -0.7175430557214215,
          -1.1400180627461531,
          -0.11870089176785127,
          -0.4928112444547452,
          -0.6934421700262892,
          -1.162414728591496,
          -0.4029885466322269,
          -0.36102952955668616,
          -0.5104657552331542,
          0.4887063348181402,
          0.7146704315033452,
          -1.4325045658589184,
          1.0883253566939783,
          -1.660062217716656,
          -1.6026679980742282,
          1.251645542003176,
          -0.7338630412394227,
          0.6190984331072154,
          -1.2867680152430798,
          -0.36183159005772164,
          1.670039970556792,
          0.2514185723005842,
          -1.3516897845362128,
          5.64168338236235,
          -0.9967482740143836,
          0.19145828053149488,
          0.07463174248424412,
          5.318246410287201,
          -0.7132980464243127,
          -0.8393774736095281,
          2.5059932925928594,
          0.2523997961075916,
          -0.04030372049192617,
          -0.7277335568819773,
          -2.068207804328725,
          0.01917262896520052,
          -1.2063684559202694,
          -0.20973496417180598,
          -0.17467699572120482,
          -1.6149285796493016,
          -1.1053133556979124,
          -1.7648481847197062,
          1.7522029772835241,
          -0.20000349657786218,
          1.5703102561264501,
          -0.19100513326449275,
          -2.010210603307125,
          3.1141176729904254,
          -1.034421387712493,
          3.7551715272184,
          -0.4863467240551839,
          -1.1274303737366425,
          1.061263846766403,
          2.059181931260724,
          1.5732794716643959,
          -1.5363812148228009,
          1.0355169646168367,
          -1.243187132142157,
          -0.6928497605899653,
          -0.21658290202876324,
          1.1464761855595416,
          4.510154677230271,
          3.3788200124165524,
          2.8644746228847273,
          2.0227102114731212,
          -0.1775022360710459,
          1.5015559774302767,
          2.105009274800907,
          0.309103061365747,
          0.47153145201208757,
          0.8192961621509447,
          -0.06759246120566414,
          -0.8065065592314506,
          1.4696545655277002,
          1.2374197999179535,
          -1.483014606315416,
          -1.3819067579864897,
          0.41275893172853356,
          -1.5940782814287544,
          1.5702641993856943,
          1.5237652005735696,
          -0.6925314415703551,
          1.3668743247314217,
          -1.584962574311021,
          -1.7052217009454262,
          0.18088556452445467,
          1.6232990737232629,
          -1.7169319924595585,
          -1.2170045821439777,
          1.2119613060530892,
          -0.27575591444330794,
          1.0602023637856424,
          -1.544531622100097,
          -1.5067143902527205,
          -1.4742687669041241,
          -0.3655630532364151,
          0.3270190936358179,
          0.2780466120800081,
          -1.4661646224153637,
          -0.9491214015665994,
          -0.4103653588578579,
          -1.79824820364271,
          -1.5027246289635434,
          0.14394974955528744,
          -1.9531288453246514,
          -1.5930764885018907,
          -1.049195407637056,
          -1.2565468551803973,
          -2.2068696571139133,
          -0.7627886744796848,
          -0.15789298339292765,
          -0.1298909828398096,
          0.8663603373879453,
          -1.716076570061338,
          -0.2873875806945508,
          0.881012625599917,
          -0.05120632108868926,
          -1.6870476907448642,
          -1.82685418324803,
          -0.8657583490435133,
          1.3130215883984457,
          -0.04856446391551597,
          -0.29419765244685875,
          -0.35196875799271676,
          -0.23881546812761403,
          0.8765739685847719,
          -0.6734380977346816,
          3.636216435330269,
          -1.1003712330827988,
          -1.105282906390546,
          -0.5066190983876779,
          -0.4519429052246667,
          -0.7451027619612915,
          2.6359351821836943,
          -1.5060781508273247,
          -1.56759239599092,
          2.985184228368432,
          -1.5877403440727442,
          0.44904087159890327,
          1.9044778348901263,
          0.3091751063873198,
          -1.5598186946782533,
          -1.1291503898069408,
          -1.3694338135725446,
          0.34693444597504464,
          -0.5271318751023933,
          1.817078891617211,
          -0.6986530484383806,
          0.42471758145652416,
          0.047262409041866106,
          1.4334896004559585,
          1.216560853960526,
          1.3572608914956894,
          0.39097582271802334,
          -1.275067705470703,
          1.9763210652264351,
          -1.9616543115933194,
          -0.2885155038284425,
          -1.524400792176569,
          -0.36874698434017744,
          -1.5429896887164982,
          -1.6369901715210915,
          -1.2790626010056194,
          -1.1750106000075928,
          -1.1273518776075109,
          0.26037596281068043,
          -1.2467797734756068,
          0.07310211295885494,
          1.8310630690708976,
          -1.0688375505144736,
          -0.7048464669022155,
          -0.6823783432685046,
          -1.6087352526640784,
          0.012673407212263597,
          1.810964696758263,
          3.101672365170814,
          -1.39798010176844,
          -0.44686724891621915,
          -0.3368063620578949,
          -0.06421835820334491,
          -0.8575223602297749,
          -1.184275217216099,
          1.4280928473382395,
          -1.1395488776456504,
          -0.44836955086832464,
          0.7094650630747595,
          2.712269452540033,
          -1.4834245334643754,
          0.9908260449768919,
          -1.4298757977476857,
          -0.018753326518341214,
          2.1681621555613075,
          -1.0178870395114141,
          0.32994464145971336,
          -0.05485066474622027,
          -1.6576327154120563,
          -1.6777019579162713,
          -1.1745817917535362,
          -0.25344958229696174,
          -0.49775594287590574,
          0.5825342141805233,
          -1.5370595451570301,
          -0.8274565255310873,
          1.8234916312964946,
          -1.3812833700775073,
          -1.3768131267672352,
          -1.5629702775968224,
          -0.38077689453882213,
          -1.210229436040596,
          -0.24017513216603745,
          2.4575398827025556,
          -1.0880665704470087,
          3.8229318455607126,
          0.09231817822473062,
          -1.2861616301353072,
          -0.6852102137551915,
          -0.6365230640562077,
          1.3787930038943894,
          1.05782098760206,
          0.512686704094831,
          -1.8771529558654272,
          -0.48568113563895426,
          0.9665704517961621,
          0.7541110044093837,
          -0.4101713955735372,
          -1.544745637931083,
          -1.2442251025321576,
          -0.37467478051011577,
          -1.1017511809534104,
          0.6535734234675896,
          -0.7731804336562365,
          -1.146044566050697,
          -0.20247038716608615,
          0.5723321826119826,
          2.3231787870778393,
          0.5331834041680183,
          -0.37891770679582853,
          -0.4555767530202299,
          -0.9998153111521502,
          6.232034252794788,
          2.0347339060879444,
          0.009411193669762011,
          4.151881259215233,
          5.741003370593242,
          0.40843741807178874,
          0.24313936885999024,
          -1.4156710705827238,
          -1.290283486046502,
          -0.5750011357204947,
          5.859983714713382,
          -1.4355846817001927,
          -0.5430243987196813,
          0.17508860234451248,
          4.399538850966529,
          -1.0327080816090861,
          0.14711369711878988,
          0.3489462979563821,
          0.9378929377286898,
          -0.2408214678751337,
          1.9561137034251588,
          2.1171195455546874,
          -1.7186462145178927,
          -1.8910621160341679,
          -0.7927052322002656,
          -0.8562911317218472,
          -0.4091289131718265,
          -1.3647952532701921,
          1.415643214468048,
          2.661583193962316,
          -0.4215686636872765,
          -0.4797841310539456,
          -1.4398343610378017,
          1.958360704824392,
          -0.46462392087220006,
          -1.70933951359511,
          -1.3335959595231335,
          1.622060506556695,
          3.11077442803762,
          -0.4039593935031747,
          -1.0224249982595868,
          -0.021658510568247306,
          -0.6923853897576763,
          -0.1365899591082985,
          -0.9319850463470029,
          -1.4144566553161624,
          -1.4398552111454168,
          -2.044094266050345,
          0.796358589561039,
          0.7296060865154198,
          -0.8988043722474488,
          -0.884316550732343,
          4.098004559020222,
          0.8140062630362973,
          -0.007136387163886566,
          -1.1000083412999089,
          -0.3895232863955791,
          -0.6016145278768876,
          -1.6297979796302233,
          -1.334455170955039,
          -1.4811898427033587,
          -1.8331728133667422,
          -0.7433330268549221,
          -0.5323542990390862,
          -1.2658236839110122,
          4.9741709997180665,
          0.07684565875683359,
          -0.6104758079481281,
          -0.6317155600387351,
          -1.0879589884739902,
          -1.9386941857570439,
          -0.8786946590167721,
          -1.8286826835990364,
          4.064514900436653,
          -1.0850009001897285,
          2.2461979371355185,
          0.1579468073734064,
          -0.2458291856203689,
          -0.6022122912782101,
          1.0051349752710725,
          0.062003624328626133,
          0.4497834190230598,
          -1.3089890961241974,
          -1.4710270695297945,
          -1.3040959467779263,
          -1.2101257284525662,
          -0.32301665745478675,
          -1.9631673789863149,
          -1.2615949908281974,
          -1.1042686447404158,
          -0.6803947301465049,
          -1.3070798531463355,
          -0.04399117871165845,
          -1.682243269680353,
          -1.3803109778741918,
          -1.2144314077292213,
          -1.187411740082216,
          6.253447555320896,
          -0.3767996106677216,
          1.5250699914381838,
          6.55771390402873,
          -0.9381035186706462,
          -1.4433381449395168,
          -1.5560128789669245,
          5.126259522222629,
          4.762993103108192,
          -1.064699107148421,
          4.128140272165692,
          -1.2790759703948449,
          1.0910374898476192,
          -1.0123679179460012,
          -0.302502146490347,
          -0.9485834051626242,
          -0.8258670233198453,
          -1.3931114092854544,
          1.1172691612860097,
          -0.19240764985700412,
          -1.0996189894772934,
          -1.5857773162907065,
          0.5292084294069742,
          -1.4918291008256197,
          -0.5613224270378744,
          -1.3786918240565158,
          -1.824166909113001,
          -1.6076254250185609,
          -1.8994710848586482,
          -1.5255996555088585,
          -1.5908162449983911,
          -1.2231212276922794,
          -1.9770777554752532,
          0.20540252377024198,
          -1.0940332602303782,
          -1.4994775115363632,
          -0.41639473778395025,
          2.2037002050321024,
          -1.5689087770152066,
          0.19551282981482482,
          3.2711676800293503,
          -1.2610707009568478,
          -1.6816889537757,
          -1.4407938507119242,
          3.1988087546846224,
          2.9304707629524787,
          -0.890152961313613,
          2.0581379097220682,
          -1.4584722083550958,
          -0.9651736432425848,
          -0.9913560365823468,
          -1.7545942672966757,
          -1.7220473061660633,
          -1.203502385135848,
          -1.531789154934124,
          -1.1691446194695514,
          -1.1827458317462403,
          -1.5405345607216625,
          -0.9762864359753705,
          -1.5656253882907218,
          -1.6848719059451385,
          -1.0824840348447715,
          -1.9669662742165075,
          -2.1756334969798456,
          -0.6395557237122992,
          -1.119794092064046,
          -2.034393751140746,
          -1.4154524240555222,
          -1.8118283381221387,
          -1.249172661241,
          -1.2688708102538995,
          -1.213692039580683,
          -1.567456272380018,
          1.7473225892779887,
          -1.2902293531542397,
          -1.4553334529367499,
          -0.6125977467687875,
          -2.0494239478842746,
          -0.833447111777782,
          -0.48714003833269315,
          -1.6834492929075977,
          -0.07561946877113092,
          -1.4761406303199043,
          -0.932710252311764,
          -1.6120029662509268,
          -2.1450072873178536,
          -1.269760588625426,
          -1.5423728203763534,
          -1.4193006118390483,
          -1.4445501126797438,
          -1.8915966533231527,
          -1.135243963134892,
          -2.097937422394004,
          -1.4377860489615106,
          0.07852130122983324,
          -2.0003720592801923,
          -1.4387891872447143,
          -1.4813797898022343,
          -1.4190256111209323,
          -0.9898996196644966,
          -1.1397387520063644,
          -0.8148117182465127,
          -1.258414730782199,
          1.6717887671065057,
          -1.5941812934845812,
          -1.588693118419704,
          -1.2818413308111853,
          -1.1350864916300243,
          -1.753685348955015,
          -0.46234361254284756,
          -0.4866452973373844,
          -0.6337041988624649,
          -1.0626422426397462,
          -1.3487336916009072,
          -1.156981608535828,
          -0.7680513020307054,
          -1.6456296614862194,
          -0.7862299634587789,
          -1.4064937234926052,
          -1.2269633700847136,
          -1.2762581332961438,
          -1.6087832991088735,
          -0.6922969015409599,
          0.2964580939412189,
          -1.3666796283333211,
          -1.3549140595529219,
          -1.2856469783639581,
          -1.162880350092702,
          -0.1360438327314226,
          -1.5465417431242683,
          -1.3298409727700509,
          -2.0396426389314626,
          -0.04851267290774362,
          -0.7779350576528908,
          -1.2259317295596845,
          -0.13803288381427017,
          -1.5920701276483633,
          -0.11575694445458792,
          0.047825843819612225,
          0.5178779242462987,
          -1.3903760260072613,
          -1.469033526879211,
          -0.8303015947107967,
          -1.4106246128370519,
          -1.1895906634817994,
          1.8991884052276913,
          1.526896764673304,
          -1.437217975070149,
          -0.20967291927800608,
          -1.1376964935041496,
          -0.8551594494357635,
          -1.1813504351061652,
          -0.4135783994750376,
          -1.1209820128208439,
          5.1584274382450985,
          1.818028550365584,
          -0.9396664006805175,
          -0.6584331919322479,
          -1.8770232433353717,
          -1.8524074162827018,
          -1.4910493496062627,
          -1.3308201293515687,
          0.10675494382617383,
          -2.1978678242416105,
          -0.8777223341564175,
          -1.3392193656298803,
          -1.4960402793361096,
          -1.7085398354940884,
          -1.2512765295028543,
          -1.7123793623318466,
          -0.8587903019807659,
          1.11450319324194,
          -0.20724526462614856,
          -1.245727671267728,
          -0.9326083308455557,
          -1.2481910428859253,
          1.2998549787854659,
          -1.350055922313852,
          -0.6985398826554444,
          -1.0817099517627413,
          -0.9904300480568783,
          -1.5083884442292348,
          -0.11730773977088657,
          0.27684303896380175,
          -0.20164423479375668,
          0.7385202298997835,
          0.22416169135537725,
          -0.9152253306501421,
          -0.7928070285820488,
          -0.3624474210445831,
          -0.10369406205816897,
          -0.9687287310212502,
          -1.4629020751249855,
          2.585484828555479,
          -0.14764540335704748,
          -1.760571168547797,
          -1.7908549293433988,
          -1.0948668561255697,
          -1.289733395497114,
          -1.6693682457614474,
          -1.531066311095579,
          -0.3405505248170657,
          -1.7560150541328416,
          -1.7879485516809943,
          -0.7278546033471975,
          -0.34926523966251366,
          -0.4657690554710781,
          -0.8227439841386589,
          -0.7834881179425431,
          -0.6854880646419031,
          -1.5311576109334766,
          -1.639576788971833,
          -1.728815509042785,
          -2.0315602869128417,
          -1.8855553037289696,
          -1.6365922217536908,
          -1.9320707051310448,
          -1.6934877035562192,
          -2.293416653791516,
          -1.649065605854798,
          -1.5156936007887287,
          -1.6447257862005902,
          -1.057014497262249,
          -1.5044491476647899,
          -1.4007356509236069,
          -1.8816989659592156,
          -1.8528795055067346,
          -0.4813177502597773,
          -2.0264839785306563,
          -1.9492213436157246,
          -1.3846739252896247,
          -1.209619032568788,
          -1.6932494980315795,
          -1.7331607158324487,
          -1.4034330862582338,
          -1.24787210629426
         ],
         "xaxis": "x",
         "y": [
          -3.8211931485062665,
          -1.9681332459629872,
          -1.0906213176964352,
          -1.6363172937927501,
          -0.2666327661781671,
          -2.90784012002533,
          -1.8546012160304182,
          -0.3392630764512533,
          -1.7705498656769019,
          -1.500499420525574,
          -1.389129724938893,
          -1.8415639578067045,
          -3.726152981380739,
          0.4793126043942136,
          -2.372549667213807,
          -0.8700825943691154,
          -1.6466425380092629,
          1.8415851385690953,
          -2.4657251163979463,
          -1.2145889355955788,
          -2.112789729725663,
          -1.4985904534761552,
          0.7255495085852421,
          -2.397624573283041,
          -3.6055222137458833,
          -2.6114789667765397,
          -3.277633917003191,
          -2.612370747100945,
          0.2596020829834682,
          -3.593895323917032,
          -1.7586918552596007,
          -1.5239000404317262,
          -1.0811354444470993,
          -0.7000807595253065,
          -1.2664909144288237,
          -3.021556459073549,
          -0.5247387604016419,
          -0.6667715802604767,
          -0.6196571620856577,
          -2.3191576745102123,
          -0.8723047658506587,
          -0.0493585594939115,
          -3.2266276594527956,
          -0.059236105587103766,
          -2.40670648516859,
          -0.07766545576167841,
          -2.9797918475933485,
          0.42732287988158096,
          -0.2693034769401084,
          -0.23119078086023928,
          -0.8848267701537421,
          -1.9186113568875993,
          -1.9238933112143084,
          -2.204634858283495,
          1.7332583768397607,
          -0.2037607729842514,
          -0.8465887944383754,
          -1.4251590405597625,
          -0.885680062573528,
          0.5506026387229815,
          -1.4223904155115674,
          -2.1376512458497325,
          -0.7935681618239412,
          -0.9615061284730737,
          -1.6002260657963054,
          1.7172019765145063,
          0.3922627784393412,
          0.6867462086600546,
          -0.5471784564633052,
          0.6726753029177802,
          -2.523153999913481,
          -0.6036353602965217,
          1.425942569529711,
          -0.04992668257357239,
          -1.2467244779357631,
          1.086015361348973,
          1.4790337390367336,
          -0.8660768699552642,
          -1.8099537193769568,
          -0.4607189548962591,
          2.1466602106187684,
          1.7686157577211343,
          1.5768271047590126,
          0.6446551035867825,
          -1.0647248914753915,
          -1.9393789643480288,
          2.6396199013709545,
          -2.1681223151400553,
          -0.6126667009170044,
          -0.577824765915978,
          -0.5790731605219395,
          -1.5243905998146567,
          -0.8840828463585189,
          1.2070536362398894,
          0.40603349737404365,
          -1.271985781400534,
          2.209648682980343,
          0.4135239950560916,
          0.5411716374139955,
          -0.7766489269007689,
          1.6811861409886155,
          -0.725839458951443,
          -0.8275923894645035,
          0.29695523465401363,
          -0.8169953627038754,
          1.2474470491923688,
          -3.2231756997073586,
          -0.22524346986056157,
          -1.8703287340144616,
          -0.09985903891213127,
          0.2750211670066248,
          2.8565394697295545,
          -1.1648346822171465,
          -0.6797087547138531,
          1.2791930728057095,
          0.8786529855429634,
          -1.066003287855031,
          -2.2759868169345685,
          -3.044692063542808,
          1.149233016179638,
          -1.0720738831855037,
          -1.4582217638255883,
          -1.1596096358734231,
          -0.631536275929088,
          -0.2232619058920931,
          -1.0177810753986596,
          -1.8556286501730472,
          -0.31238524519922356,
          3.9186343314375907,
          -1.479174116748726,
          -2.073620328504254,
          -1.1628094375144518,
          0.411483143001265,
          -1.777964970981515,
          0.4564508250237442,
          0.506454326981929,
          -1.0035316572230946,
          -2.3317800169113228,
          2.2317136531120543,
          1.3818500912976388,
          -1.4291883012442024,
          -0.44784603076215823,
          -1.0724160573476853,
          -0.921770323667912,
          -2.7721004723713474,
          0.7897671146617764,
          -0.8341745110296551,
          1.759574131704569,
          2.266782801264288,
          -1.8624240352195736,
          -2.0034801059536136,
          -0.9811573901854275,
          -0.9954745202679504,
          -0.8612577166090568,
          -0.33621809743722136,
          -0.5164634324668421,
          -0.4509008219504333,
          -0.06120147472531434,
          0.0562721275726625,
          -0.2064734618334541,
          -2.646990811107398,
          -0.7363142213599813,
          0.19653110874495178,
          1.255820848688199,
          -0.8777457475950714,
          -0.24746622790674278,
          1.6981883514695029,
          3.8461212242916303,
          -0.3463148861520731,
          3.4359245309842317,
          1.4729716486721744,
          0.27614634581863173,
          1.5359812907626027,
          1.7393064816505837,
          -1.6267618012110576,
          0.32853957634287667,
          -1.1707805943554412,
          -0.2584066493864176,
          -0.8787148765011572,
          0.5431958290374225,
          2.098546692431125,
          -0.34641162620118127,
          2.869767127829707,
          1.6055762488237904,
          2.3539173790115835,
          0.07082437515203188,
          1.4536344134926886,
          0.007537313886944675,
          0.3376019453598075,
          1.7585381844352987,
          -0.38234902015984534,
          -0.3163467759799409,
          -0.6174031682817931,
          -0.7716622013475086,
          1.6076579349854447,
          0.8697260450707197,
          -0.8298079608899864,
          -1.826349588462835,
          -0.4151844316432683,
          0.40365528901712794,
          0.4531973392729094,
          -0.6530168894574498,
          0.8335831556066262,
          -2.0934200117991413,
          0.4188850379280079,
          -1.9218043099098623,
          -0.11905373918953273,
          -1.0365961796097016,
          1.2783375206477399,
          -0.9034489849206185,
          1.247265360591235,
          -1.0213986245328466,
          -0.06328773315945811,
          -0.7213443756515852,
          -0.13616373195720594,
          -0.15054817344222793,
          -0.5076883253991032,
          -1.3412249622036772,
          0.19451416916142636,
          -0.531025158856885,
          -1.6403085691421186,
          -1.3063442152939992,
          -0.3283467886572861,
          1.7132283161748751,
          -0.9579843721499967,
          -1.9023092813928257,
          -0.9609243834796187,
          -0.673261723173496,
          0.9688323478798239,
          -1.328119147862706,
          0.11031673242144971,
          -1.908425523406703,
          0.46668359932866893,
          -1.233988679003852,
          -1.3527829014743167,
          -0.19866172760635523,
          -0.46136256738753567,
          0.903326804001904,
          -0.353871646253923,
          0.27424362656011725,
          -1.2906329491604502,
          -0.8005809133967804,
          1.5832698710373223,
          0.5260784916134168,
          2.194674180320191,
          0.20454758344394894,
          1.7970700464017664,
          -0.8731554131829203,
          -0.5432590713891927,
          0.130022870519942,
          -0.6550797357878066,
          -1.9806261691791236,
          0.3346702962316233,
          3.3167134214363805,
          -0.32197276129799635,
          0.3030848099244536,
          -1.3725216782467544,
          -1.7703100391676787,
          -0.5723796103125035,
          0.8042492274840214,
          2.1242445256773648,
          -1.6203793512495595,
          2.2589267722993296,
          -0.7459639540951514,
          -0.9983246230993652,
          0.321255462582432,
          -0.6268227313842317,
          -1.1853202439815478,
          -1.682428387219935,
          0.29363606898882383,
          1.4732080825744898,
          -0.15889729594618818,
          -1.5505662323745157,
          -0.5408752747861886,
          -1.6810844713717903,
          -1.656381507583149,
          -1.0188690446091875,
          1.3199914038855858,
          -1.8857743437305852,
          -0.40427132696041623,
          -1.1139590830966992,
          -0.46214460146137126,
          -0.7693013009043146,
          -0.23456037917796704,
          2.2581772853948787,
          -0.5543153949133726,
          0.022707294362112246,
          -0.732319040752583,
          0.8539791657588782,
          1.469095064603741,
          -1.2883333152017697,
          -1.6268132381203735,
          1.4264313729674478,
          -0.632753988520135,
          -1.00041152743946,
          -1.3090600697952883,
          0.9768293805525717,
          -1.0467270524716052,
          -1.0828018119775458,
          0.04974657391233717,
          -0.49293392171563766,
          -1.0614133133186843,
          -0.7829944480979824,
          -1.916708265135063,
          -0.19907537590474578,
          -0.18536695504959977,
          0.15660833938875718,
          0.392766689242978,
          -1.1968735088263573,
          -0.8224589547438914,
          -0.9489003187367793,
          1.1283556465555842,
          -0.12737465915287582,
          -1.1993174126931825,
          2.376183542544131,
          -1.2053889118657268,
          -1.095639932732879,
          -1.0786468437545846,
          -1.1906867215471606,
          -1.7605582948985956,
          0.8643562165083292,
          -1.0413397433373173,
          1.4514164623454922,
          0.08381227727385757,
          2.8114704798234724,
          2.2346285312849257,
          1.9687966729801898,
          2.0918004601216458,
          -2.2935829617442334,
          -2.0750732603042357,
          1.0427425953571698,
          0.7890174680174207,
          -0.026908453322347373,
          -0.8564765439994199,
          -1.300373142920042,
          0.15367205125904917,
          -0.8607858865561938,
          0.23434454742250735,
          -1.1912698595478663,
          -1.161693498881903,
          -0.5326664354087638,
          1.0859717060572447,
          2.432107847815067,
          -1.3164566738956385,
          1.4201315653009337,
          -1.0549068433997943,
          -1.2293562433990324,
          -0.03406781229172512,
          -0.1458864712832167,
          2.453000346131351,
          2.9440305305076655,
          -1.748437352417275,
          -1.3146689693334535,
          0.40944641405182997,
          -1.23218577547457,
          0.4992034275483248,
          -1.072555787181076,
          0.8375589972297471,
          0.6459343188925736,
          -0.43686924781781755,
          -0.23260554817305165,
          -0.8359787615779658,
          -0.5335873533163397,
          0.9226051783122956,
          1.7764583900832411,
          -2.0288764342301575,
          2.4402030859551735,
          -1.3725897021736253,
          -0.9404966779198631,
          -0.44702038219034185,
          1.5580207773856265,
          0.6474164277513997,
          -1.0417728447393189,
          -0.3404709108543312,
          -0.351322104268342,
          -1.2444106777787094,
          0.7885250387586553,
          -0.3629914266704997,
          0.05365964119658711,
          1.1636475629185332,
          -0.26117831376242645,
          -2.1045070880292847,
          -1.0508103684361791,
          -1.8492805724703647,
          -1.1380220251056068,
          -1.1861961182978256,
          -0.051673222950233993,
          3.990292191990956,
          0.34883954596044725,
          -0.6647626975335479,
          -1.2705895655692598,
          -0.0627016025485308,
          -1.6644085337833778,
          -2.5365350916244984,
          0.11001139436251983,
          0.6953869897930363,
          -1.3402152050330849,
          -1.1071965981968268,
          -1.7045533324484028,
          3.5672712800115423,
          1.9007862467215857,
          2.577611091898219,
          -2.430731846453607,
          -0.9850150483224489,
          -1.9052048237425894,
          -1.4283730116548254,
          0.04043627885974562,
          -0.5753622060819988,
          2.017665540820582,
          -1.3365815065652973,
          -0.8980799185186281,
          1.5140743634532818,
          1.6551706435771913,
          -1.278419571313414,
          -0.5903855124310865,
          0.9970980821582941,
          2.8501465719327665,
          1.725504637140798,
          -1.6150677859635496,
          -0.9726931167211531,
          -0.6912389860875564,
          0.4640974334508203,
          0.33313018581249404,
          -2.616729144656488,
          3.2002565693943303,
          3.5754395301260176,
          -0.6206991431727421,
          -0.3250782265774611,
          0.5290171678638292,
          -1.4492825499062907,
          -0.5741145995831592,
          2.0103633088229884,
          0.24751358139374413,
          -1.3150529103646456,
          -1.3425189716859542,
          1.0812535110979469,
          -1.605870487514626,
          1.3638283238892732,
          0.5676323044427227,
          1.5544145098549205,
          -0.29614857406834305,
          2.420496740696939,
          0.609511669345616,
          2.379316076518661,
          2.960741144900389,
          4.224636082095166,
          0.7558749263296758,
          3.5391413522991684,
          4.4395975961788565,
          1.2607200780975474,
          -0.31931275596288744,
          1.3873226460409442,
          2.0330764935511,
          0.7018198394553948,
          1.366137762669871,
          1.1779320022056767,
          2.0795953057034477,
          2.319892589964868,
          -0.1839740600095519,
          2.7602684250883267,
          6.042219150691527,
          1.1850734808570076,
          1.8326394118111724,
          1.7327542577618413,
          3.183591987806967,
          -0.43072342796581414,
          3.130872811414362,
          1.2705273057566322,
          1.2227128580236437,
          5.510530159263526,
          1.4676928592507754,
          2.7955247571219637,
          2.3111932586550705,
          0.286419173952486,
          -0.3118845978844571,
          -0.6795224911398057,
          2.4828317381615266,
          0.34222777369955737,
          -0.7730377360676666,
          0.2578813812805023,
          1.9450460650194592,
          0.3840145716595874,
          0.26611878051850946,
          2.630269779148567,
          0.7264972046024574,
          -0.1581884791383882,
          2.095582775872756,
          1.5383759360011555,
          -1.75073733802328,
          0.258338356978898,
          -1.141568600768325,
          -1.300208512506723,
          -1.1449950640878155,
          1.909399737057622,
          -1.3929380451920832,
          1.769645089402035,
          3.2890363244918537,
          1.487445886545986,
          2.023555989828628,
          -0.9933000114106668,
          0.3468933421587031,
          -1.3609359496066387,
          -0.30189058573151656,
          0.5415360589955553,
          -0.6424501656092909,
          -1.3586954573151837,
          -0.9129984756676349,
          -1.3041031572320978,
          -0.4047215589790277,
          -0.4115904295510009,
          0.23695371631358386,
          -0.22287827999843676,
          -0.343085484346207,
          0.5877857529304241,
          0.846118170708903,
          0.9278330226038911,
          -0.16024237288248808,
          -1.8558119161388729,
          1.2441327814263599,
          0.8749043324841749,
          0.018534770619184574,
          2.8992807913362477,
          0.13800194799595789,
          2.9868963544857308,
          -0.8132046465250075,
          -0.7381248476796652,
          -0.4521352305449578,
          -0.4564846864702969,
          -0.2298486658178243,
          -0.18151744783333165,
          -0.6230245687465654,
          3.4368636861558217,
          0.01777954523283228,
          3.3939882121937774,
          0.9536713651074106,
          2.752122149922102,
          -0.7225299022467508,
          1.396347823066569,
          0.5480984822410702,
          0.3344639417313138,
          -0.03703271296244427,
          1.8247261572971103,
          0.7352116427190662,
          -1.0295660833819098,
          3.6912374344622303,
          0.5457445051914281,
          0.48623810887292906,
          -0.8570830300741582,
          0.29630543997652753,
          0.7209316936915803,
          -0.7670035204812417,
          -0.07782813588933751,
          -0.4285804330276454,
          -1.692244471718262,
          -0.2146809336002038,
          0.41821416699643726,
          -0.9598458589555411,
          0.4547892741722158,
          -1.305857717014738,
          -1.5073864323016177,
          0.4930208785706687,
          0.2459737410287999,
          -0.18631333510631132,
          -0.4392346598057387,
          -0.5520321660839929,
          2.3020376855519804,
          -1.0833880961374187,
          -0.09995444048104044,
          0.07549547723488795,
          -0.29580827873287663,
          -0.6749784505952107,
          -0.16622189014083258,
          0.27481689214601557,
          -0.6093842291978968,
          1.0982163972866898,
          -0.607419307974858,
          2.9577515533281886,
          2.636093506747363,
          1.3643609117660735,
          -0.4830611925951651,
          1.2958018202619472,
          -0.3344250960928829,
          -0.8266822044942621,
          -0.38039460617880166,
          -0.33292505564285835,
          -1.4426631790275728,
          2.503638804596313,
          2.658665658845754,
          0.08040665813359735,
          -1.3431578415796435,
          2.339866260888984,
          -0.949506287328868,
          0.22679237633346264,
          -0.9716849317086309,
          0.007265526383867615,
          3.54257181094599,
          -1.1917671591296157,
          0.9060028075956587,
          -0.09292333377658717,
          -1.171220659527179,
          -0.1829934418125863,
          -1.72717567025982,
          1.1166986785021673,
          -1.103257126454815,
          -2.0080069312222304,
          2.311019813712251,
          0.23260305221164995,
          3.0012521076515446,
          1.4104648901299595,
          0.09137553334957833,
          -0.9701577656296473,
          0.25683882510172906,
          2.692687739381567,
          2.9365120065484445,
          -0.15030454620006345,
          -0.477469586197722,
          -0.49775263707068423,
          0.7072787986647806,
          -1.0312237320961453,
          1.000426592299321,
          2.4641808584220386,
          -2.0644387318628583,
          4.321594260416616,
          0.5981193930686347,
          3.278306228279135,
          0.32314200851611624,
          -0.14696311883080931,
          -0.3807733517161076,
          -0.128719047362485,
          1.53781871750051,
          -0.5858171154581625,
          -1.2231553123118681,
          1.2131091744187377,
          1.5035522891120954,
          -0.1549826071035668,
          -1.0760510517045985,
          -0.8815459430918111,
          -2.4600554499363505,
          0.5604456707962339,
          0.8446967483025485,
          2.0308987217306838,
          -1.9892357616732022,
          -1.2019578003988973,
          -1.4992790056905485,
          -0.7591127161161175,
          -1.4077313919665808,
          -0.9745193127595849,
          -2.083188037754605,
          -0.04975311986168562,
          0.1396479499749742,
          1.7959685519094422,
          2.665094542660293,
          -0.5962167071861694,
          -0.930671031060847,
          -0.8246891805461369,
          0.9434776921883012,
          -0.15720194820574526,
          -0.5446282215656494,
          -0.023355808821478235,
          0.3987020599921369,
          0.9276849153523251,
          1.039850736440793,
          0.8530770432440549,
          1.6487410521306682,
          -1.3674335427583737,
          0.4063369715931272,
          -2.065401150655331,
          -1.023238799748293,
          -0.549382027629115,
          0.7072416043533182,
          -0.9767159206404508,
          -0.10706219074541971,
          -0.45218269566795527,
          -1.6420984785046484,
          1.7277908171632521,
          -1.638239827443769,
          -0.3891676148378046,
          -0.030870709747400915,
          -0.17138788225069518,
          -1.5307775813181954,
          -0.38431370978568286,
          -2.138912070598304,
          0.8022863659430453,
          1.8226517773940276,
          1.6040764315280271,
          2.4345969324753627,
          2.6702023884387787,
          -1.1895421117047207,
          2.145628519111479,
          -0.1988845111583681,
          3.828005244754468,
          -1.9827135020495017,
          -0.021626793128634095,
          -0.37232513274604856,
          -0.053132070577340075,
          -1.6105273207977866,
          5.067785512308298,
          -1.2714052842833312,
          -1.4913736536279698,
          -1.1103718036438055,
          -0.40865520992193,
          0.3140180437516812,
          1.3930951944802228,
          2.965412748191272,
          -0.48725442615202813,
          -0.5088246662404726,
          -0.26535381529961216,
          -1.321424847716987,
          0.6656390008310182,
          0.6053208581673977,
          0.3243666334297574,
          0.2708578276128633,
          -1.0128330447957403,
          -0.478634972150746,
          2.7118391289192947,
          -1.1960224931916519,
          3.468586513913169,
          2.3565767753417344,
          -1.5867568431501413,
          0.3270018250747965,
          0.052610590778568396,
          0.616806794373038,
          0.7090573361697321,
          -0.13991192150790524,
          0.681634294759607,
          0.22179605809162198,
          0.7612507237433529,
          0.7244754742372226,
          -0.5873279745475662,
          -0.45573732331222866,
          0.8984792562392113,
          -1.4370804461979032,
          -0.4853567838422279,
          0.592370686694973,
          -0.5502081799153858,
          -0.7920676757211773,
          -1.4831141892969366,
          1.142580224684549,
          1.0149650171927973,
          0.40138123323909763,
          0.6947315830646159,
          -1.422817096320777,
          -1.8039964841196856,
          0.09061679433476214,
          -2.403731840339423,
          1.4153523940718666,
          0.6504491494768047,
          -1.7232264886084472,
          -1.4916590586925265,
          3.7452207703399227,
          -0.5479781992016202,
          -0.041648296141937775,
          -1.3342256992930932,
          -0.8717861681947128,
          -1.0822157971839528,
          1.1064569038173382,
          -0.7379819760843378,
          0.12521266087594132,
          -2.9370807559739736,
          1.2017065803607458,
          2.826989639589937,
          2.3964464987276024,
          0.18590801223064168,
          -1.7707740437000123,
          -0.7508104065665812,
          -0.4162364132330012,
          0.7040204871040695,
          0.009840531037152975,
          -0.413366362147623,
          -0.7345513553383011,
          0.5599063279760678,
          -0.33922380158667725,
          0.28617319804996916,
          -0.6412608173428954,
          -0.723337320876597,
          1.201965632102588,
          0.20732798686511777,
          -0.39910419446115974,
          -0.35257356077564855,
          -0.6287013137545292,
          -1.0218940658256206,
          0.2742590182319711,
          1.4234044469101983,
          -0.33708795306937306,
          -1.1681722498325864,
          2.106598557554435,
          -0.8510003430827376,
          -1.2214117612812896,
          -0.44186191967926897,
          0.49334892443156053,
          -0.21544240344414345,
          -0.8323745388692634,
          0.0928471084919518,
          0.2276696105193127,
          -2.973169887622146,
          1.5932091282771401,
          2.126926734725466,
          -1.533119068286545,
          -0.5988533501249593,
          1.1850134068035196,
          3.772805114575826,
          1.8363071509767142,
          -0.8649559337279464,
          0.581941380079824,
          0.13636191536192602,
          -0.441925192526188,
          1.1029672093622862,
          -0.5841209709091267,
          1.9417338477496993,
          -0.36602170940235484,
          -1.1858638395370837,
          0.7458653444927661,
          -1.356432602267892,
          -0.7177467078242619,
          -0.6624613168600519,
          -0.5633232647315135,
          -0.179426654416411,
          0.20461999028786534,
          1.9848856859532056,
          1.411240565046612,
          -1.275296671750545,
          2.9553718618565004,
          2.202617020456406,
          1.696632388985828,
          1.708280882999047,
          -1.109496886426592,
          -1.4051411360229589,
          0.24965470185094105,
          2.918847547849054,
          1.3042284000126898,
          0.8879258278561335,
          -0.6796009214041346,
          -0.6270860787148146,
          -1.6001084475358507,
          -0.7953839823586063,
          1.790125432066834,
          -2.2674718559852605,
          -1.4453442642730066,
          1.1498423452840545,
          0.15542420251302458,
          -1.0204497521155371,
          2.014741766407287,
          -0.14210404915484573,
          0.4830089616561427,
          -1.484803147139157,
          -0.18875612054691657,
          -0.6181023756252592,
          -0.07670637748473424,
          0.18599832733700145,
          0.9502345890277003,
          -0.8711968436815515,
          -1.5309757386261253,
          -1.145793956700931,
          1.570684364577386,
          -0.677129289481622,
          2.3295237722787503,
          -0.7590280178264556,
          3.586811866465443,
          -0.6841863494398471,
          2.9504943249323246,
          -0.20344643658926514,
          0.7839607075283112,
          -1.9688260018848567,
          -2.453580551062712,
          1.0253085285138133,
          -0.8047825265939436,
          -0.9608391809099578,
          -0.9255842757311316,
          -1.0043547338349545,
          -0.272987676188756,
          1.1521650092368088,
          -0.9453292322950978,
          0.27007026079738866,
          0.21688572008657525,
          -1.4258235529747778,
          -1.0635398719709896,
          -1.983355476098906,
          0.5355859113964289,
          -0.9294759981776131,
          -0.21363878479689724,
          0.5200729072666719,
          -2.20541291407012,
          0.444805705278946,
          -0.32109503528826605,
          0.2586894289735322,
          -0.01627994235095972,
          0.03828012496748707,
          -0.7626654456299069,
          -0.7065877549877834,
          -0.23206651200842984,
          0.9243728751117499,
          -0.6809726369186573,
          -0.4592947314283568,
          -1.817736975913785,
          -1.0055890458039651,
          -0.6305379933191183,
          -1.433727549498274,
          -1.1126451753722242,
          -0.4175754795333253,
          -0.747432448337251,
          -1.7596964789597023,
          1.8942430530682126,
          -0.8810286478514425,
          -1.8410666238592353,
          -1.309910745393107,
          -0.04687008274845808,
          -0.33656095790317053,
          -0.7648742120264175,
          3.7964938232191736,
          3.6814847645320614,
          4.4220809291637115,
          -0.16593760178626546,
          -0.7033098180538655,
          1.123689286517341,
          -1.3753700686832897,
          -0.64487784357379,
          1.7677693742213823,
          0.8820112942246884,
          0.4508043698101789,
          -1.5336845748457084,
          -1.778159103435258,
          1.669097233029628,
          2.116216328085093,
          -1.210063343211084,
          -0.41963949694862385,
          -1.2996093493531278,
          0.6191835210949255,
          -0.39266638579713536,
          -2.3294639365375662,
          -0.563444270905932,
          -0.42884342319513785,
          -0.6010614472078665,
          0.9861774910199406,
          0.8371436215846267,
          -0.2823359825269111,
          2.1737157735147217,
          0.07564569245860629,
          3.5555353841096107,
          -0.23871742188059777,
          3.9711831393685846,
          0.4276346915087219,
          2.22530397545094,
          -1.1887417122822135,
          -0.006665590340326415,
          0.000672060044424693,
          0.5735844151667426,
          0.20606470474408117,
          2.3392724061858075,
          3.797431528870624,
          -1.0620085967062787,
          -1.6299087693980965,
          0.6241919941155193
         ],
         "yaxis": "y"
        }
       ],
       "layout": {
        "coloraxis": {
         "colorbar": {
          "title": {
           "text": "cluster"
          }
         },
         "colorscale": [
          [
           0,
           "#0d0887"
          ],
          [
           0.1111111111111111,
           "#46039f"
          ],
          [
           0.2222222222222222,
           "#7201a8"
          ],
          [
           0.3333333333333333,
           "#9c179e"
          ],
          [
           0.4444444444444444,
           "#bd3786"
          ],
          [
           0.5555555555555556,
           "#d8576b"
          ],
          [
           0.6666666666666666,
           "#ed7953"
          ],
          [
           0.7777777777777778,
           "#fb9f3a"
          ],
          [
           0.8888888888888888,
           "#fdca26"
          ],
          [
           1,
           "#f0f921"
          ]
         ]
        },
        "legend": {
         "tracegroupgap": 0
        },
        "margin": {
         "t": 60
        },
        "template": {
         "data": {
          "bar": [
           {
            "error_x": {
             "color": "#2a3f5f"
            },
            "error_y": {
             "color": "#2a3f5f"
            },
            "marker": {
             "line": {
              "color": "#E5ECF6",
              "width": 0.5
             },
             "pattern": {
              "fillmode": "overlay",
              "size": 10,
              "solidity": 0.2
             }
            },
            "type": "bar"
           }
          ],
          "barpolar": [
           {
            "marker": {
             "line": {
              "color": "#E5ECF6",
              "width": 0.5
             },
             "pattern": {
              "fillmode": "overlay",
              "size": 10,
              "solidity": 0.2
             }
            },
            "type": "barpolar"
           }
          ],
          "carpet": [
           {
            "aaxis": {
             "endlinecolor": "#2a3f5f",
             "gridcolor": "white",
             "linecolor": "white",
             "minorgridcolor": "white",
             "startlinecolor": "#2a3f5f"
            },
            "baxis": {
             "endlinecolor": "#2a3f5f",
             "gridcolor": "white",
             "linecolor": "white",
             "minorgridcolor": "white",
             "startlinecolor": "#2a3f5f"
            },
            "type": "carpet"
           }
          ],
          "choropleth": [
           {
            "colorbar": {
             "outlinewidth": 0,
             "ticks": ""
            },
            "type": "choropleth"
           }
          ],
          "contour": [
           {
            "colorbar": {
             "outlinewidth": 0,
             "ticks": ""
            },
            "colorscale": [
             [
              0,
              "#0d0887"
             ],
             [
              0.1111111111111111,
              "#46039f"
             ],
             [
              0.2222222222222222,
              "#7201a8"
             ],
             [
              0.3333333333333333,
              "#9c179e"
             ],
             [
              0.4444444444444444,
              "#bd3786"
             ],
             [
              0.5555555555555556,
              "#d8576b"
             ],
             [
              0.6666666666666666,
              "#ed7953"
             ],
             [
              0.7777777777777778,
              "#fb9f3a"
             ],
             [
              0.8888888888888888,
              "#fdca26"
             ],
             [
              1,
              "#f0f921"
             ]
            ],
            "type": "contour"
           }
          ],
          "contourcarpet": [
           {
            "colorbar": {
             "outlinewidth": 0,
             "ticks": ""
            },
            "type": "contourcarpet"
           }
          ],
          "heatmap": [
           {
            "colorbar": {
             "outlinewidth": 0,
             "ticks": ""
            },
            "colorscale": [
             [
              0,
              "#0d0887"
             ],
             [
              0.1111111111111111,
              "#46039f"
             ],
             [
              0.2222222222222222,
              "#7201a8"
             ],
             [
              0.3333333333333333,
              "#9c179e"
             ],
             [
              0.4444444444444444,
              "#bd3786"
             ],
             [
              0.5555555555555556,
              "#d8576b"
             ],
             [
              0.6666666666666666,
              "#ed7953"
             ],
             [
              0.7777777777777778,
              "#fb9f3a"
             ],
             [
              0.8888888888888888,
              "#fdca26"
             ],
             [
              1,
              "#f0f921"
             ]
            ],
            "type": "heatmap"
           }
          ],
          "heatmapgl": [
           {
            "colorbar": {
             "outlinewidth": 0,
             "ticks": ""
            },
            "colorscale": [
             [
              0,
              "#0d0887"
             ],
             [
              0.1111111111111111,
              "#46039f"
             ],
             [
              0.2222222222222222,
              "#7201a8"
             ],
             [
              0.3333333333333333,
              "#9c179e"
             ],
             [
              0.4444444444444444,
              "#bd3786"
             ],
             [
              0.5555555555555556,
              "#d8576b"
             ],
             [
              0.6666666666666666,
              "#ed7953"
             ],
             [
              0.7777777777777778,
              "#fb9f3a"
             ],
             [
              0.8888888888888888,
              "#fdca26"
             ],
             [
              1,
              "#f0f921"
             ]
            ],
            "type": "heatmapgl"
           }
          ],
          "histogram": [
           {
            "marker": {
             "pattern": {
              "fillmode": "overlay",
              "size": 10,
              "solidity": 0.2
             }
            },
            "type": "histogram"
           }
          ],
          "histogram2d": [
           {
            "colorbar": {
             "outlinewidth": 0,
             "ticks": ""
            },
            "colorscale": [
             [
              0,
              "#0d0887"
             ],
             [
              0.1111111111111111,
              "#46039f"
             ],
             [
              0.2222222222222222,
              "#7201a8"
             ],
             [
              0.3333333333333333,
              "#9c179e"
             ],
             [
              0.4444444444444444,
              "#bd3786"
             ],
             [
              0.5555555555555556,
              "#d8576b"
             ],
             [
              0.6666666666666666,
              "#ed7953"
             ],
             [
              0.7777777777777778,
              "#fb9f3a"
             ],
             [
              0.8888888888888888,
              "#fdca26"
             ],
             [
              1,
              "#f0f921"
             ]
            ],
            "type": "histogram2d"
           }
          ],
          "histogram2dcontour": [
           {
            "colorbar": {
             "outlinewidth": 0,
             "ticks": ""
            },
            "colorscale": [
             [
              0,
              "#0d0887"
             ],
             [
              0.1111111111111111,
              "#46039f"
             ],
             [
              0.2222222222222222,
              "#7201a8"
             ],
             [
              0.3333333333333333,
              "#9c179e"
             ],
             [
              0.4444444444444444,
              "#bd3786"
             ],
             [
              0.5555555555555556,
              "#d8576b"
             ],
             [
              0.6666666666666666,
              "#ed7953"
             ],
             [
              0.7777777777777778,
              "#fb9f3a"
             ],
             [
              0.8888888888888888,
              "#fdca26"
             ],
             [
              1,
              "#f0f921"
             ]
            ],
            "type": "histogram2dcontour"
           }
          ],
          "mesh3d": [
           {
            "colorbar": {
             "outlinewidth": 0,
             "ticks": ""
            },
            "type": "mesh3d"
           }
          ],
          "parcoords": [
           {
            "line": {
             "colorbar": {
              "outlinewidth": 0,
              "ticks": ""
             }
            },
            "type": "parcoords"
           }
          ],
          "pie": [
           {
            "automargin": true,
            "type": "pie"
           }
          ],
          "scatter": [
           {
            "fillpattern": {
             "fillmode": "overlay",
             "size": 10,
             "solidity": 0.2
            },
            "type": "scatter"
           }
          ],
          "scatter3d": [
           {
            "line": {
             "colorbar": {
              "outlinewidth": 0,
              "ticks": ""
             }
            },
            "marker": {
             "colorbar": {
              "outlinewidth": 0,
              "ticks": ""
             }
            },
            "type": "scatter3d"
           }
          ],
          "scattercarpet": [
           {
            "marker": {
             "colorbar": {
              "outlinewidth": 0,
              "ticks": ""
             }
            },
            "type": "scattercarpet"
           }
          ],
          "scattergeo": [
           {
            "marker": {
             "colorbar": {
              "outlinewidth": 0,
              "ticks": ""
             }
            },
            "type": "scattergeo"
           }
          ],
          "scattergl": [
           {
            "marker": {
             "colorbar": {
              "outlinewidth": 0,
              "ticks": ""
             }
            },
            "type": "scattergl"
           }
          ],
          "scattermapbox": [
           {
            "marker": {
             "colorbar": {
              "outlinewidth": 0,
              "ticks": ""
             }
            },
            "type": "scattermapbox"
           }
          ],
          "scatterpolar": [
           {
            "marker": {
             "colorbar": {
              "outlinewidth": 0,
              "ticks": ""
             }
            },
            "type": "scatterpolar"
           }
          ],
          "scatterpolargl": [
           {
            "marker": {
             "colorbar": {
              "outlinewidth": 0,
              "ticks": ""
             }
            },
            "type": "scatterpolargl"
           }
          ],
          "scatterternary": [
           {
            "marker": {
             "colorbar": {
              "outlinewidth": 0,
              "ticks": ""
             }
            },
            "type": "scatterternary"
           }
          ],
          "surface": [
           {
            "colorbar": {
             "outlinewidth": 0,
             "ticks": ""
            },
            "colorscale": [
             [
              0,
              "#0d0887"
             ],
             [
              0.1111111111111111,
              "#46039f"
             ],
             [
              0.2222222222222222,
              "#7201a8"
             ],
             [
              0.3333333333333333,
              "#9c179e"
             ],
             [
              0.4444444444444444,
              "#bd3786"
             ],
             [
              0.5555555555555556,
              "#d8576b"
             ],
             [
              0.6666666666666666,
              "#ed7953"
             ],
             [
              0.7777777777777778,
              "#fb9f3a"
             ],
             [
              0.8888888888888888,
              "#fdca26"
             ],
             [
              1,
              "#f0f921"
             ]
            ],
            "type": "surface"
           }
          ],
          "table": [
           {
            "cells": {
             "fill": {
              "color": "#EBF0F8"
             },
             "line": {
              "color": "white"
             }
            },
            "header": {
             "fill": {
              "color": "#C8D4E3"
             },
             "line": {
              "color": "white"
             }
            },
            "type": "table"
           }
          ]
         },
         "layout": {
          "annotationdefaults": {
           "arrowcolor": "#2a3f5f",
           "arrowhead": 0,
           "arrowwidth": 1
          },
          "autotypenumbers": "strict",
          "coloraxis": {
           "colorbar": {
            "outlinewidth": 0,
            "ticks": ""
           }
          },
          "colorscale": {
           "diverging": [
            [
             0,
             "#8e0152"
            ],
            [
             0.1,
             "#c51b7d"
            ],
            [
             0.2,
             "#de77ae"
            ],
            [
             0.3,
             "#f1b6da"
            ],
            [
             0.4,
             "#fde0ef"
            ],
            [
             0.5,
             "#f7f7f7"
            ],
            [
             0.6,
             "#e6f5d0"
            ],
            [
             0.7,
             "#b8e186"
            ],
            [
             0.8,
             "#7fbc41"
            ],
            [
             0.9,
             "#4d9221"
            ],
            [
             1,
             "#276419"
            ]
           ],
           "sequential": [
            [
             0,
             "#0d0887"
            ],
            [
             0.1111111111111111,
             "#46039f"
            ],
            [
             0.2222222222222222,
             "#7201a8"
            ],
            [
             0.3333333333333333,
             "#9c179e"
            ],
            [
             0.4444444444444444,
             "#bd3786"
            ],
            [
             0.5555555555555556,
             "#d8576b"
            ],
            [
             0.6666666666666666,
             "#ed7953"
            ],
            [
             0.7777777777777778,
             "#fb9f3a"
            ],
            [
             0.8888888888888888,
             "#fdca26"
            ],
            [
             1,
             "#f0f921"
            ]
           ],
           "sequentialminus": [
            [
             0,
             "#0d0887"
            ],
            [
             0.1111111111111111,
             "#46039f"
            ],
            [
             0.2222222222222222,
             "#7201a8"
            ],
            [
             0.3333333333333333,
             "#9c179e"
            ],
            [
             0.4444444444444444,
             "#bd3786"
            ],
            [
             0.5555555555555556,
             "#d8576b"
            ],
            [
             0.6666666666666666,
             "#ed7953"
            ],
            [
             0.7777777777777778,
             "#fb9f3a"
            ],
            [
             0.8888888888888888,
             "#fdca26"
            ],
            [
             1,
             "#f0f921"
            ]
           ]
          },
          "colorway": [
           "#636efa",
           "#EF553B",
           "#00cc96",
           "#ab63fa",
           "#FFA15A",
           "#19d3f3",
           "#FF6692",
           "#B6E880",
           "#FF97FF",
           "#FECB52"
          ],
          "font": {
           "color": "#2a3f5f"
          },
          "geo": {
           "bgcolor": "white",
           "lakecolor": "white",
           "landcolor": "#E5ECF6",
           "showlakes": true,
           "showland": true,
           "subunitcolor": "white"
          },
          "hoverlabel": {
           "align": "left"
          },
          "hovermode": "closest",
          "mapbox": {
           "style": "light"
          },
          "paper_bgcolor": "white",
          "plot_bgcolor": "#E5ECF6",
          "polar": {
           "angularaxis": {
            "gridcolor": "white",
            "linecolor": "white",
            "ticks": ""
           },
           "bgcolor": "#E5ECF6",
           "radialaxis": {
            "gridcolor": "white",
            "linecolor": "white",
            "ticks": ""
           }
          },
          "scene": {
           "xaxis": {
            "backgroundcolor": "#E5ECF6",
            "gridcolor": "white",
            "gridwidth": 2,
            "linecolor": "white",
            "showbackground": true,
            "ticks": "",
            "zerolinecolor": "white"
           },
           "yaxis": {
            "backgroundcolor": "#E5ECF6",
            "gridcolor": "white",
            "gridwidth": 2,
            "linecolor": "white",
            "showbackground": true,
            "ticks": "",
            "zerolinecolor": "white"
           },
           "zaxis": {
            "backgroundcolor": "#E5ECF6",
            "gridcolor": "white",
            "gridwidth": 2,
            "linecolor": "white",
            "showbackground": true,
            "ticks": "",
            "zerolinecolor": "white"
           }
          },
          "shapedefaults": {
           "line": {
            "color": "#2a3f5f"
           }
          },
          "ternary": {
           "aaxis": {
            "gridcolor": "white",
            "linecolor": "white",
            "ticks": ""
           },
           "baxis": {
            "gridcolor": "white",
            "linecolor": "white",
            "ticks": ""
           },
           "bgcolor": "#E5ECF6",
           "caxis": {
            "gridcolor": "white",
            "linecolor": "white",
            "ticks": ""
           }
          },
          "title": {
           "x": 0.05
          },
          "xaxis": {
           "automargin": true,
           "gridcolor": "white",
           "linecolor": "white",
           "ticks": "",
           "title": {
            "standoff": 15
           },
           "zerolinecolor": "white",
           "zerolinewidth": 2
          },
          "yaxis": {
           "automargin": true,
           "gridcolor": "white",
           "linecolor": "white",
           "ticks": "",
           "title": {
            "standoff": 15
           },
           "zerolinecolor": "white",
           "zerolinewidth": 2
          }
         }
        },
        "xaxis": {
         "anchor": "y",
         "domain": [
          0,
          1
         ],
         "title": {
          "text": "x"
         }
        },
        "yaxis": {
         "anchor": "x",
         "domain": [
          0,
          1
         ],
         "title": {
          "text": "y"
         }
        }
       }
      }
     },
     "metadata": {},
     "output_type": "display_data"
    }
   ],
   "source": [
    "#visualização dos clusters com PCA\n",
    "\n",
    "pca_pipeline = Pipeline([('scaler', StandardScaler()), ('PCA', PCA(n_components=2))])\n",
    "song_embedding = pca_pipeline.fit_transform(X)\n",
    "projection = pd.DataFrame(columns=['x', 'y'], data=song_embedding)\n",
    "projection['title'] = df['track_name']\n",
    "projection['cluster'] = df['cluster_label']\n",
    "\n",
    "fig = px.scatter(\n",
    "    projection, x='x', y='y', color='cluster', hover_data=['x', 'y', 'title'])\n",
    "fig.show()"
   ]
  },
  {
   "cell_type": "markdown",
   "metadata": {},
   "source": [
    "## Construindo sistema de recomendação\n"
   ]
  },
  {
   "cell_type": "code",
   "execution_count": 103,
   "metadata": {},
   "outputs": [
    {
     "data": {
      "text/html": [
       "<div>\n",
       "<style scoped>\n",
       "    .dataframe tbody tr th:only-of-type {\n",
       "        vertical-align: middle;\n",
       "    }\n",
       "\n",
       "    .dataframe tbody tr th {\n",
       "        vertical-align: top;\n",
       "    }\n",
       "\n",
       "    .dataframe thead th {\n",
       "        text-align: right;\n",
       "    }\n",
       "</style>\n",
       "<table border=\"1\" class=\"dataframe\">\n",
       "  <thead>\n",
       "    <tr style=\"text-align: right;\">\n",
       "      <th></th>\n",
       "      <th>track_name</th>\n",
       "      <th>artist(s)_name</th>\n",
       "      <th>artist_count</th>\n",
       "      <th>released_year</th>\n",
       "      <th>released_month</th>\n",
       "      <th>released_day</th>\n",
       "      <th>in_spotify_playlists</th>\n",
       "      <th>in_spotify_charts</th>\n",
       "      <th>streams</th>\n",
       "      <th>in_apple_playlists</th>\n",
       "      <th>...</th>\n",
       "      <th>key</th>\n",
       "      <th>mode</th>\n",
       "      <th>danceability_%</th>\n",
       "      <th>valence_%</th>\n",
       "      <th>energy_%</th>\n",
       "      <th>acousticness_%</th>\n",
       "      <th>instrumentalness_%</th>\n",
       "      <th>liveness_%</th>\n",
       "      <th>speechiness_%</th>\n",
       "      <th>cluster_label</th>\n",
       "    </tr>\n",
       "  </thead>\n",
       "  <tbody>\n",
       "    <tr>\n",
       "      <th>0</th>\n",
       "      <td>Blinding Lights</td>\n",
       "      <td>The Weeknd</td>\n",
       "      <td>1</td>\n",
       "      <td>2019</td>\n",
       "      <td>11</td>\n",
       "      <td>29</td>\n",
       "      <td>43899</td>\n",
       "      <td>69</td>\n",
       "      <td>3703895074</td>\n",
       "      <td>672</td>\n",
       "      <td>...</td>\n",
       "      <td>C#</td>\n",
       "      <td>Major</td>\n",
       "      <td>50</td>\n",
       "      <td>38</td>\n",
       "      <td>80</td>\n",
       "      <td>0</td>\n",
       "      <td>0</td>\n",
       "      <td>9</td>\n",
       "      <td>7</td>\n",
       "      <td>1</td>\n",
       "    </tr>\n",
       "    <tr>\n",
       "      <th>1</th>\n",
       "      <td>Shape of You</td>\n",
       "      <td>Ed Sheeran</td>\n",
       "      <td>1</td>\n",
       "      <td>2017</td>\n",
       "      <td>1</td>\n",
       "      <td>6</td>\n",
       "      <td>32181</td>\n",
       "      <td>10</td>\n",
       "      <td>3562543890</td>\n",
       "      <td>33</td>\n",
       "      <td>...</td>\n",
       "      <td>C#</td>\n",
       "      <td>Minor</td>\n",
       "      <td>83</td>\n",
       "      <td>93</td>\n",
       "      <td>65</td>\n",
       "      <td>58</td>\n",
       "      <td>0</td>\n",
       "      <td>9</td>\n",
       "      <td>8</td>\n",
       "      <td>1</td>\n",
       "    </tr>\n",
       "    <tr>\n",
       "      <th>2</th>\n",
       "      <td>Someone You Loved</td>\n",
       "      <td>Lewis Capaldi</td>\n",
       "      <td>1</td>\n",
       "      <td>2018</td>\n",
       "      <td>11</td>\n",
       "      <td>8</td>\n",
       "      <td>17836</td>\n",
       "      <td>53</td>\n",
       "      <td>2887241814</td>\n",
       "      <td>440</td>\n",
       "      <td>...</td>\n",
       "      <td>C#</td>\n",
       "      <td>Major</td>\n",
       "      <td>50</td>\n",
       "      <td>45</td>\n",
       "      <td>41</td>\n",
       "      <td>75</td>\n",
       "      <td>0</td>\n",
       "      <td>11</td>\n",
       "      <td>3</td>\n",
       "      <td>1</td>\n",
       "    </tr>\n",
       "    <tr>\n",
       "      <th>3</th>\n",
       "      <td>Dance Monkey</td>\n",
       "      <td>Tones and I</td>\n",
       "      <td>1</td>\n",
       "      <td>2019</td>\n",
       "      <td>5</td>\n",
       "      <td>10</td>\n",
       "      <td>24529</td>\n",
       "      <td>0</td>\n",
       "      <td>2864791672</td>\n",
       "      <td>533</td>\n",
       "      <td>...</td>\n",
       "      <td>F#</td>\n",
       "      <td>Minor</td>\n",
       "      <td>82</td>\n",
       "      <td>54</td>\n",
       "      <td>59</td>\n",
       "      <td>69</td>\n",
       "      <td>0</td>\n",
       "      <td>18</td>\n",
       "      <td>10</td>\n",
       "      <td>1</td>\n",
       "    </tr>\n",
       "    <tr>\n",
       "      <th>4</th>\n",
       "      <td>Sunflower - Spider-Man: Into the Spider-Verse</td>\n",
       "      <td>Post Malone, Swae Lee</td>\n",
       "      <td>2</td>\n",
       "      <td>2018</td>\n",
       "      <td>10</td>\n",
       "      <td>9</td>\n",
       "      <td>24094</td>\n",
       "      <td>78</td>\n",
       "      <td>2808096550</td>\n",
       "      <td>372</td>\n",
       "      <td>...</td>\n",
       "      <td>D</td>\n",
       "      <td>Major</td>\n",
       "      <td>76</td>\n",
       "      <td>91</td>\n",
       "      <td>50</td>\n",
       "      <td>54</td>\n",
       "      <td>0</td>\n",
       "      <td>7</td>\n",
       "      <td>5</td>\n",
       "      <td>1</td>\n",
       "    </tr>\n",
       "  </tbody>\n",
       "</table>\n",
       "<p>5 rows × 23 columns</p>\n",
       "</div>"
      ],
      "text/plain": [
       "                                      track_name         artist(s)_name  \\\n",
       "0                                Blinding Lights             The Weeknd   \n",
       "1                                   Shape of You             Ed Sheeran   \n",
       "2                              Someone You Loved          Lewis Capaldi   \n",
       "3                                   Dance Monkey            Tones and I   \n",
       "4  Sunflower - Spider-Man: Into the Spider-Verse  Post Malone, Swae Lee   \n",
       "\n",
       "   artist_count  released_year  released_month  released_day  \\\n",
       "0             1           2019              11            29   \n",
       "1             1           2017               1             6   \n",
       "2             1           2018              11             8   \n",
       "3             1           2019               5            10   \n",
       "4             2           2018              10             9   \n",
       "\n",
       "   in_spotify_playlists  in_spotify_charts     streams  in_apple_playlists  \\\n",
       "0                 43899                 69  3703895074                 672   \n",
       "1                 32181                 10  3562543890                  33   \n",
       "2                 17836                 53  2887241814                 440   \n",
       "3                 24529                  0  2864791672                 533   \n",
       "4                 24094                 78  2808096550                 372   \n",
       "\n",
       "   ...  key   mode  danceability_% valence_% energy_%  acousticness_%  \\\n",
       "0  ...   C#  Major              50        38       80               0   \n",
       "1  ...   C#  Minor              83        93       65              58   \n",
       "2  ...   C#  Major              50        45       41              75   \n",
       "3  ...   F#  Minor              82        54       59              69   \n",
       "4  ...    D  Major              76        91       50              54   \n",
       "\n",
       "   instrumentalness_%  liveness_%  speechiness_%  cluster_label  \n",
       "0                   0           9              7              1  \n",
       "1                   0           9              8              1  \n",
       "2                   0          11              3              1  \n",
       "3                   0          18             10              1  \n",
       "4                   0           7              5              1  \n",
       "\n",
       "[5 rows x 23 columns]"
      ]
     },
     "execution_count": 103,
     "metadata": {},
     "output_type": "execute_result"
    }
   ],
   "source": [
    "#organizando as musicas por quantidade streams\n",
    "song_library = df.sort_values(by=['streams'], ascending=False)\n",
    "\n",
    "# resetendo index\n",
    "song_library.reset_index(inplace=True, drop=True)\n",
    "\n",
    "song_library.head()\n"
   ]
  },
  {
   "cell_type": "code",
   "execution_count": 104,
   "metadata": {},
   "outputs": [
    {
     "data": {
      "text/html": [
       "<style>#sk-container-id-2 {\n",
       "  /* Definition of color scheme common for light and dark mode */\n",
       "  --sklearn-color-text: black;\n",
       "  --sklearn-color-line: gray;\n",
       "  /* Definition of color scheme for unfitted estimators */\n",
       "  --sklearn-color-unfitted-level-0: #fff5e6;\n",
       "  --sklearn-color-unfitted-level-1: #f6e4d2;\n",
       "  --sklearn-color-unfitted-level-2: #ffe0b3;\n",
       "  --sklearn-color-unfitted-level-3: chocolate;\n",
       "  /* Definition of color scheme for fitted estimators */\n",
       "  --sklearn-color-fitted-level-0: #f0f8ff;\n",
       "  --sklearn-color-fitted-level-1: #d4ebff;\n",
       "  --sklearn-color-fitted-level-2: #b3dbfd;\n",
       "  --sklearn-color-fitted-level-3: cornflowerblue;\n",
       "\n",
       "  /* Specific color for light theme */\n",
       "  --sklearn-color-text-on-default-background: var(--sg-text-color, var(--theme-code-foreground, var(--jp-content-font-color1, black)));\n",
       "  --sklearn-color-background: var(--sg-background-color, var(--theme-background, var(--jp-layout-color0, white)));\n",
       "  --sklearn-color-border-box: var(--sg-text-color, var(--theme-code-foreground, var(--jp-content-font-color1, black)));\n",
       "  --sklearn-color-icon: #696969;\n",
       "\n",
       "  @media (prefers-color-scheme: dark) {\n",
       "    /* Redefinition of color scheme for dark theme */\n",
       "    --sklearn-color-text-on-default-background: var(--sg-text-color, var(--theme-code-foreground, var(--jp-content-font-color1, white)));\n",
       "    --sklearn-color-background: var(--sg-background-color, var(--theme-background, var(--jp-layout-color0, #111)));\n",
       "    --sklearn-color-border-box: var(--sg-text-color, var(--theme-code-foreground, var(--jp-content-font-color1, white)));\n",
       "    --sklearn-color-icon: #878787;\n",
       "  }\n",
       "}\n",
       "\n",
       "#sk-container-id-2 {\n",
       "  color: var(--sklearn-color-text);\n",
       "}\n",
       "\n",
       "#sk-container-id-2 pre {\n",
       "  padding: 0;\n",
       "}\n",
       "\n",
       "#sk-container-id-2 input.sk-hidden--visually {\n",
       "  border: 0;\n",
       "  clip: rect(1px 1px 1px 1px);\n",
       "  clip: rect(1px, 1px, 1px, 1px);\n",
       "  height: 1px;\n",
       "  margin: -1px;\n",
       "  overflow: hidden;\n",
       "  padding: 0;\n",
       "  position: absolute;\n",
       "  width: 1px;\n",
       "}\n",
       "\n",
       "#sk-container-id-2 div.sk-dashed-wrapped {\n",
       "  border: 1px dashed var(--sklearn-color-line);\n",
       "  margin: 0 0.4em 0.5em 0.4em;\n",
       "  box-sizing: border-box;\n",
       "  padding-bottom: 0.4em;\n",
       "  background-color: var(--sklearn-color-background);\n",
       "}\n",
       "\n",
       "#sk-container-id-2 div.sk-container {\n",
       "  /* jupyter's `normalize.less` sets `[hidden] { display: none; }`\n",
       "     but bootstrap.min.css set `[hidden] { display: none !important; }`\n",
       "     so we also need the `!important` here to be able to override the\n",
       "     default hidden behavior on the sphinx rendered scikit-learn.org.\n",
       "     See: https://github.com/scikit-learn/scikit-learn/issues/21755 */\n",
       "  display: inline-block !important;\n",
       "  position: relative;\n",
       "}\n",
       "\n",
       "#sk-container-id-2 div.sk-text-repr-fallback {\n",
       "  display: none;\n",
       "}\n",
       "\n",
       "div.sk-parallel-item,\n",
       "div.sk-serial,\n",
       "div.sk-item {\n",
       "  /* draw centered vertical line to link estimators */\n",
       "  background-image: linear-gradient(var(--sklearn-color-text-on-default-background), var(--sklearn-color-text-on-default-background));\n",
       "  background-size: 2px 100%;\n",
       "  background-repeat: no-repeat;\n",
       "  background-position: center center;\n",
       "}\n",
       "\n",
       "/* Parallel-specific style estimator block */\n",
       "\n",
       "#sk-container-id-2 div.sk-parallel-item::after {\n",
       "  content: \"\";\n",
       "  width: 100%;\n",
       "  border-bottom: 2px solid var(--sklearn-color-text-on-default-background);\n",
       "  flex-grow: 1;\n",
       "}\n",
       "\n",
       "#sk-container-id-2 div.sk-parallel {\n",
       "  display: flex;\n",
       "  align-items: stretch;\n",
       "  justify-content: center;\n",
       "  background-color: var(--sklearn-color-background);\n",
       "  position: relative;\n",
       "}\n",
       "\n",
       "#sk-container-id-2 div.sk-parallel-item {\n",
       "  display: flex;\n",
       "  flex-direction: column;\n",
       "}\n",
       "\n",
       "#sk-container-id-2 div.sk-parallel-item:first-child::after {\n",
       "  align-self: flex-end;\n",
       "  width: 50%;\n",
       "}\n",
       "\n",
       "#sk-container-id-2 div.sk-parallel-item:last-child::after {\n",
       "  align-self: flex-start;\n",
       "  width: 50%;\n",
       "}\n",
       "\n",
       "#sk-container-id-2 div.sk-parallel-item:only-child::after {\n",
       "  width: 0;\n",
       "}\n",
       "\n",
       "/* Serial-specific style estimator block */\n",
       "\n",
       "#sk-container-id-2 div.sk-serial {\n",
       "  display: flex;\n",
       "  flex-direction: column;\n",
       "  align-items: center;\n",
       "  background-color: var(--sklearn-color-background);\n",
       "  padding-right: 1em;\n",
       "  padding-left: 1em;\n",
       "}\n",
       "\n",
       "\n",
       "/* Toggleable style: style used for estimator/Pipeline/ColumnTransformer box that is\n",
       "clickable and can be expanded/collapsed.\n",
       "- Pipeline and ColumnTransformer use this feature and define the default style\n",
       "- Estimators will overwrite some part of the style using the `sk-estimator` class\n",
       "*/\n",
       "\n",
       "/* Pipeline and ColumnTransformer style (default) */\n",
       "\n",
       "#sk-container-id-2 div.sk-toggleable {\n",
       "  /* Default theme specific background. It is overwritten whether we have a\n",
       "  specific estimator or a Pipeline/ColumnTransformer */\n",
       "  background-color: var(--sklearn-color-background);\n",
       "}\n",
       "\n",
       "/* Toggleable label */\n",
       "#sk-container-id-2 label.sk-toggleable__label {\n",
       "  cursor: pointer;\n",
       "  display: block;\n",
       "  width: 100%;\n",
       "  margin-bottom: 0;\n",
       "  padding: 0.5em;\n",
       "  box-sizing: border-box;\n",
       "  text-align: center;\n",
       "}\n",
       "\n",
       "#sk-container-id-2 label.sk-toggleable__label-arrow:before {\n",
       "  /* Arrow on the left of the label */\n",
       "  content: \"▸\";\n",
       "  float: left;\n",
       "  margin-right: 0.25em;\n",
       "  color: var(--sklearn-color-icon);\n",
       "}\n",
       "\n",
       "#sk-container-id-2 label.sk-toggleable__label-arrow:hover:before {\n",
       "  color: var(--sklearn-color-text);\n",
       "}\n",
       "\n",
       "/* Toggleable content - dropdown */\n",
       "\n",
       "#sk-container-id-2 div.sk-toggleable__content {\n",
       "  max-height: 0;\n",
       "  max-width: 0;\n",
       "  overflow: hidden;\n",
       "  text-align: left;\n",
       "  /* unfitted */\n",
       "  background-color: var(--sklearn-color-unfitted-level-0);\n",
       "}\n",
       "\n",
       "#sk-container-id-2 div.sk-toggleable__content.fitted {\n",
       "  /* fitted */\n",
       "  background-color: var(--sklearn-color-fitted-level-0);\n",
       "}\n",
       "\n",
       "#sk-container-id-2 div.sk-toggleable__content pre {\n",
       "  margin: 0.2em;\n",
       "  border-radius: 0.25em;\n",
       "  color: var(--sklearn-color-text);\n",
       "  /* unfitted */\n",
       "  background-color: var(--sklearn-color-unfitted-level-0);\n",
       "}\n",
       "\n",
       "#sk-container-id-2 div.sk-toggleable__content.fitted pre {\n",
       "  /* unfitted */\n",
       "  background-color: var(--sklearn-color-fitted-level-0);\n",
       "}\n",
       "\n",
       "#sk-container-id-2 input.sk-toggleable__control:checked~div.sk-toggleable__content {\n",
       "  /* Expand drop-down */\n",
       "  max-height: 200px;\n",
       "  max-width: 100%;\n",
       "  overflow: auto;\n",
       "}\n",
       "\n",
       "#sk-container-id-2 input.sk-toggleable__control:checked~label.sk-toggleable__label-arrow:before {\n",
       "  content: \"▾\";\n",
       "}\n",
       "\n",
       "/* Pipeline/ColumnTransformer-specific style */\n",
       "\n",
       "#sk-container-id-2 div.sk-label input.sk-toggleable__control:checked~label.sk-toggleable__label {\n",
       "  color: var(--sklearn-color-text);\n",
       "  background-color: var(--sklearn-color-unfitted-level-2);\n",
       "}\n",
       "\n",
       "#sk-container-id-2 div.sk-label.fitted input.sk-toggleable__control:checked~label.sk-toggleable__label {\n",
       "  background-color: var(--sklearn-color-fitted-level-2);\n",
       "}\n",
       "\n",
       "/* Estimator-specific style */\n",
       "\n",
       "/* Colorize estimator box */\n",
       "#sk-container-id-2 div.sk-estimator input.sk-toggleable__control:checked~label.sk-toggleable__label {\n",
       "  /* unfitted */\n",
       "  background-color: var(--sklearn-color-unfitted-level-2);\n",
       "}\n",
       "\n",
       "#sk-container-id-2 div.sk-estimator.fitted input.sk-toggleable__control:checked~label.sk-toggleable__label {\n",
       "  /* fitted */\n",
       "  background-color: var(--sklearn-color-fitted-level-2);\n",
       "}\n",
       "\n",
       "#sk-container-id-2 div.sk-label label.sk-toggleable__label,\n",
       "#sk-container-id-2 div.sk-label label {\n",
       "  /* The background is the default theme color */\n",
       "  color: var(--sklearn-color-text-on-default-background);\n",
       "}\n",
       "\n",
       "/* On hover, darken the color of the background */\n",
       "#sk-container-id-2 div.sk-label:hover label.sk-toggleable__label {\n",
       "  color: var(--sklearn-color-text);\n",
       "  background-color: var(--sklearn-color-unfitted-level-2);\n",
       "}\n",
       "\n",
       "/* Label box, darken color on hover, fitted */\n",
       "#sk-container-id-2 div.sk-label.fitted:hover label.sk-toggleable__label.fitted {\n",
       "  color: var(--sklearn-color-text);\n",
       "  background-color: var(--sklearn-color-fitted-level-2);\n",
       "}\n",
       "\n",
       "/* Estimator label */\n",
       "\n",
       "#sk-container-id-2 div.sk-label label {\n",
       "  font-family: monospace;\n",
       "  font-weight: bold;\n",
       "  display: inline-block;\n",
       "  line-height: 1.2em;\n",
       "}\n",
       "\n",
       "#sk-container-id-2 div.sk-label-container {\n",
       "  text-align: center;\n",
       "}\n",
       "\n",
       "/* Estimator-specific */\n",
       "#sk-container-id-2 div.sk-estimator {\n",
       "  font-family: monospace;\n",
       "  border: 1px dotted var(--sklearn-color-border-box);\n",
       "  border-radius: 0.25em;\n",
       "  box-sizing: border-box;\n",
       "  margin-bottom: 0.5em;\n",
       "  /* unfitted */\n",
       "  background-color: var(--sklearn-color-unfitted-level-0);\n",
       "}\n",
       "\n",
       "#sk-container-id-2 div.sk-estimator.fitted {\n",
       "  /* fitted */\n",
       "  background-color: var(--sklearn-color-fitted-level-0);\n",
       "}\n",
       "\n",
       "/* on hover */\n",
       "#sk-container-id-2 div.sk-estimator:hover {\n",
       "  /* unfitted */\n",
       "  background-color: var(--sklearn-color-unfitted-level-2);\n",
       "}\n",
       "\n",
       "#sk-container-id-2 div.sk-estimator.fitted:hover {\n",
       "  /* fitted */\n",
       "  background-color: var(--sklearn-color-fitted-level-2);\n",
       "}\n",
       "\n",
       "/* Specification for estimator info (e.g. \"i\" and \"?\") */\n",
       "\n",
       "/* Common style for \"i\" and \"?\" */\n",
       "\n",
       ".sk-estimator-doc-link,\n",
       "a:link.sk-estimator-doc-link,\n",
       "a:visited.sk-estimator-doc-link {\n",
       "  float: right;\n",
       "  font-size: smaller;\n",
       "  line-height: 1em;\n",
       "  font-family: monospace;\n",
       "  background-color: var(--sklearn-color-background);\n",
       "  border-radius: 1em;\n",
       "  height: 1em;\n",
       "  width: 1em;\n",
       "  text-decoration: none !important;\n",
       "  margin-left: 1ex;\n",
       "  /* unfitted */\n",
       "  border: var(--sklearn-color-unfitted-level-1) 1pt solid;\n",
       "  color: var(--sklearn-color-unfitted-level-1);\n",
       "}\n",
       "\n",
       ".sk-estimator-doc-link.fitted,\n",
       "a:link.sk-estimator-doc-link.fitted,\n",
       "a:visited.sk-estimator-doc-link.fitted {\n",
       "  /* fitted */\n",
       "  border: var(--sklearn-color-fitted-level-1) 1pt solid;\n",
       "  color: var(--sklearn-color-fitted-level-1);\n",
       "}\n",
       "\n",
       "/* On hover */\n",
       "div.sk-estimator:hover .sk-estimator-doc-link:hover,\n",
       ".sk-estimator-doc-link:hover,\n",
       "div.sk-label-container:hover .sk-estimator-doc-link:hover,\n",
       ".sk-estimator-doc-link:hover {\n",
       "  /* unfitted */\n",
       "  background-color: var(--sklearn-color-unfitted-level-3);\n",
       "  color: var(--sklearn-color-background);\n",
       "  text-decoration: none;\n",
       "}\n",
       "\n",
       "div.sk-estimator.fitted:hover .sk-estimator-doc-link.fitted:hover,\n",
       ".sk-estimator-doc-link.fitted:hover,\n",
       "div.sk-label-container:hover .sk-estimator-doc-link.fitted:hover,\n",
       ".sk-estimator-doc-link.fitted:hover {\n",
       "  /* fitted */\n",
       "  background-color: var(--sklearn-color-fitted-level-3);\n",
       "  color: var(--sklearn-color-background);\n",
       "  text-decoration: none;\n",
       "}\n",
       "\n",
       "/* Span, style for the box shown on hovering the info icon */\n",
       ".sk-estimator-doc-link span {\n",
       "  display: none;\n",
       "  z-index: 9999;\n",
       "  position: relative;\n",
       "  font-weight: normal;\n",
       "  right: .2ex;\n",
       "  padding: .5ex;\n",
       "  margin: .5ex;\n",
       "  width: min-content;\n",
       "  min-width: 20ex;\n",
       "  max-width: 50ex;\n",
       "  color: var(--sklearn-color-text);\n",
       "  box-shadow: 2pt 2pt 4pt #999;\n",
       "  /* unfitted */\n",
       "  background: var(--sklearn-color-unfitted-level-0);\n",
       "  border: .5pt solid var(--sklearn-color-unfitted-level-3);\n",
       "}\n",
       "\n",
       ".sk-estimator-doc-link.fitted span {\n",
       "  /* fitted */\n",
       "  background: var(--sklearn-color-fitted-level-0);\n",
       "  border: var(--sklearn-color-fitted-level-3);\n",
       "}\n",
       "\n",
       ".sk-estimator-doc-link:hover span {\n",
       "  display: block;\n",
       "}\n",
       "\n",
       "/* \"?\"-specific style due to the `<a>` HTML tag */\n",
       "\n",
       "#sk-container-id-2 a.estimator_doc_link {\n",
       "  float: right;\n",
       "  font-size: 1rem;\n",
       "  line-height: 1em;\n",
       "  font-family: monospace;\n",
       "  background-color: var(--sklearn-color-background);\n",
       "  border-radius: 1rem;\n",
       "  height: 1rem;\n",
       "  width: 1rem;\n",
       "  text-decoration: none;\n",
       "  /* unfitted */\n",
       "  color: var(--sklearn-color-unfitted-level-1);\n",
       "  border: var(--sklearn-color-unfitted-level-1) 1pt solid;\n",
       "}\n",
       "\n",
       "#sk-container-id-2 a.estimator_doc_link.fitted {\n",
       "  /* fitted */\n",
       "  border: var(--sklearn-color-fitted-level-1) 1pt solid;\n",
       "  color: var(--sklearn-color-fitted-level-1);\n",
       "}\n",
       "\n",
       "/* On hover */\n",
       "#sk-container-id-2 a.estimator_doc_link:hover {\n",
       "  /* unfitted */\n",
       "  background-color: var(--sklearn-color-unfitted-level-3);\n",
       "  color: var(--sklearn-color-background);\n",
       "  text-decoration: none;\n",
       "}\n",
       "\n",
       "#sk-container-id-2 a.estimator_doc_link.fitted:hover {\n",
       "  /* fitted */\n",
       "  background-color: var(--sklearn-color-fitted-level-3);\n",
       "}\n",
       "</style><div id=\"sk-container-id-2\" class=\"sk-top-container\"><div class=\"sk-text-repr-fallback\"><pre>CountVectorizer()</pre><b>In a Jupyter environment, please rerun this cell to show the HTML representation or trust the notebook. <br />On GitHub, the HTML representation is unable to render, please try loading this page with nbviewer.org.</b></div><div class=\"sk-container\" hidden><div class=\"sk-item\"><div class=\"sk-estimator fitted sk-toggleable\"><input class=\"sk-toggleable__control sk-hidden--visually\" id=\"sk-estimator-id-2\" type=\"checkbox\" checked><label for=\"sk-estimator-id-2\" class=\"sk-toggleable__label fitted sk-toggleable__label-arrow fitted\">&nbsp;&nbsp;CountVectorizer<a class=\"sk-estimator-doc-link fitted\" rel=\"noreferrer\" target=\"_blank\" href=\"https://scikit-learn.org/1.4/modules/generated/sklearn.feature_extraction.text.CountVectorizer.html\">?<span>Documentation for CountVectorizer</span></a><span class=\"sk-estimator-doc-link fitted\">i<span>Fitted</span></span></label><div class=\"sk-toggleable__content fitted\"><pre>CountVectorizer()</pre></div> </div></div></div></div>"
      ],
      "text/plain": [
       "CountVectorizer()"
      ]
     },
     "execution_count": 104,
     "metadata": {},
     "output_type": "execute_result"
    }
   ],
   "source": [
    "# Utilizando CountVectorizer para tranformar texto em vetor\n",
    "song_vectorizer = CountVectorizer()\n",
    "\n",
    "# aplicando na coluna mode\n",
    "song_vectorizer.fit(song_library['mode'])"
   ]
  },
  {
   "cell_type": "code",
   "execution_count": 106,
   "metadata": {},
   "outputs": [
    {
     "data": {
      "text/plain": [
       "['artist_count',\n",
       " 'released_year',\n",
       " 'released_month',\n",
       " 'released_day',\n",
       " 'in_spotify_playlists',\n",
       " 'in_spotify_charts',\n",
       " 'streams',\n",
       " 'in_apple_playlists',\n",
       " 'in_apple_charts',\n",
       " 'in_deezer_charts',\n",
       " 'bpm',\n",
       " 'danceability_%',\n",
       " 'valence_%',\n",
       " 'energy_%',\n",
       " 'acousticness_%',\n",
       " 'instrumentalness_%',\n",
       " 'liveness_%',\n",
       " 'speechiness_%']"
      ]
     },
     "execution_count": 106,
     "metadata": {},
     "output_type": "execute_result"
    }
   ],
   "source": [
    "#para construir o sistema de recomendação será necessário fazer calculos com as colunas do tipo númerico\n",
    "\n",
    "colunas_num  = df.select_dtypes(include='int64').columns.tolist()"
   ]
  },
  {
   "cell_type": "code",
   "execution_count": null,
   "metadata": {},
   "outputs": [],
   "source": [
    "# Função para recomendar músicas similares\n",
    "def song_recommender(song_name):\n",
    "    try:\n",
    "        # colunas numéricas\n",
    "        num_cols = colunas_num\n",
    "\n",
    "        # Craindo um vetor a partir da coluna mode para a musica passada\n",
    "        text_vec1 = song_vectorizer.transform(song_library[song_library['track_name']==str(song_name)]['mode']).toarray()\n",
    "\n",
    "        # Criando um vetor numerico da musica passada\n",
    "        num_vec1 = song_library[song_library['track_name']==str(song_name)][num_cols].to_numpy()\n",
    "\n",
    "        # Lista em branco para guardar a similaridade\n",
    "        sim_scores=  []\n",
    "\n",
    "        # Determinar similaridade de coseno para cada música do data frame com a musica passada na função\n",
    "\n",
    "        for index, row in song_library.iterrows():\n",
    "            name = row['track_name']\n",
    "\n",
    "            # Vetor utilizando coluna mode para as demais musicas do data frame\n",
    "            text_vec2 = song_vectorizer.transform(song_library[song_library['track_name']==name]['mode']).toarray()\n",
    "\n",
    "            # Vetor com as colunas numericas para as demais musicas\n",
    "            num_vec2 = song_library[song_library['track_name']==name][num_cols].to_numpy()\n",
    "\n",
    "            # calculando a similaridade de cossenos para os vetores textuais\n",
    "            text_sim = cosine_similarity(text_vec1, text_vec2)[0][0]\n",
    "\n",
    "            # calculando a similaridade de cossenos para os vetores numericos\n",
    "            num_sim = cosine_similarity(num_vec1, num_vec2)[0][0]\n",
    "\n",
    "            # Tirando a média das similaridades e adicionando na lista de sim_scores\n",
    "            sim = (text_sim + num_sim)/2\n",
    "            sim_scores.append(sim)\n",
    "        \n",
    "        # Adicionar coluna contendo a similaridades para o dataframe song_library\n",
    "        song_library['similarity'] = sim_scores\n",
    "\n",
    "        # Organizando o dataframe com base na nova coluna similarity\n",
    "        song_library.sort_values(by=['similarity', 'streams', 'released_year'], ascending=[False, False, False], inplace=True)\n",
    "\n",
    "        # Criando dataframe das 5 músicas recomendadas com base na musica passada\n",
    "        recommended_songs = song_library[['track_name', 'artist(s)_name', 'released_year']][2:7]\n",
    "        return recommended_songs\n",
    "    except:\n",
    "        # Mensagem de erro caso a música não exista no dataframe\n",
    "        print('{} not found in songs library.'.format(song_name))"
   ]
  },
  {
   "cell_type": "code",
   "execution_count": 110,
   "metadata": {},
   "outputs": [
    {
     "data": {
      "text/html": [
       "<div>\n",
       "<style scoped>\n",
       "    .dataframe tbody tr th:only-of-type {\n",
       "        vertical-align: middle;\n",
       "    }\n",
       "\n",
       "    .dataframe tbody tr th {\n",
       "        vertical-align: top;\n",
       "    }\n",
       "\n",
       "    .dataframe thead th {\n",
       "        text-align: right;\n",
       "    }\n",
       "</style>\n",
       "<table border=\"1\" class=\"dataframe\">\n",
       "  <thead>\n",
       "    <tr style=\"text-align: right;\">\n",
       "      <th></th>\n",
       "      <th>track_name</th>\n",
       "      <th>artist(s)_name</th>\n",
       "      <th>released_year</th>\n",
       "    </tr>\n",
       "  </thead>\n",
       "  <tbody>\n",
       "    <tr>\n",
       "      <th>199</th>\n",
       "      <td>Style</td>\n",
       "      <td>Taylor Swift</td>\n",
       "      <td>2014</td>\n",
       "    </tr>\n",
       "    <tr>\n",
       "      <th>188</th>\n",
       "      <td>Bad Habit</td>\n",
       "      <td>Steve Lacy</td>\n",
       "      <td>2022</td>\n",
       "    </tr>\n",
       "    <tr>\n",
       "      <th>173</th>\n",
       "      <td>Lover</td>\n",
       "      <td>Taylor Swift</td>\n",
       "      <td>2012</td>\n",
       "    </tr>\n",
       "    <tr>\n",
       "      <th>208</th>\n",
       "      <td>Late Night Talking</td>\n",
       "      <td>Harry Styles</td>\n",
       "      <td>2022</td>\n",
       "    </tr>\n",
       "    <tr>\n",
       "      <th>216</th>\n",
       "      <td>we fell in love in october</td>\n",
       "      <td>girl in red</td>\n",
       "      <td>2018</td>\n",
       "    </tr>\n",
       "  </tbody>\n",
       "</table>\n",
       "</div>"
      ],
      "text/plain": [
       "                     track_name artist(s)_name  released_year\n",
       "199                       Style   Taylor Swift           2014\n",
       "188                   Bad Habit     Steve Lacy           2022\n",
       "173                       Lover   Taylor Swift           2012\n",
       "208          Late Night Talking   Harry Styles           2022\n",
       "216  we fell in love in october    girl in red           2018"
      ]
     },
     "execution_count": 110,
     "metadata": {},
     "output_type": "execute_result"
    }
   ],
   "source": [
    "#Recomendando músicas parecidas com Cruel Summer da Taylor Swift\n",
    "song_recommender('Cruel Summer')"
   ]
  }
 ],
 "metadata": {
  "kernelspec": {
   "display_name": "Python 3",
   "language": "python",
   "name": "python3"
  },
  "language_info": {
   "codemirror_mode": {
    "name": "ipython",
    "version": 3
   },
   "file_extension": ".py",
   "mimetype": "text/x-python",
   "name": "python",
   "nbconvert_exporter": "python",
   "pygments_lexer": "ipython3",
   "version": "3.12.2"
  }
 },
 "nbformat": 4,
 "nbformat_minor": 2
}
